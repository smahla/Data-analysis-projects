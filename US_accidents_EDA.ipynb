{
 "cells": [
  {
   "cell_type": "markdown",
   "metadata": {
    "id": "ZLQRsLVpb8dh"
   },
   "source": [
    "## US Accidents"
   ]
  },
  {
   "cell_type": "markdown",
   "metadata": {
    "id": "3RypIFhacG7o"
   },
   "source": [
    "### Dataset Info\r\n",
    "This is a countrywide car accident dataset, which covers 49 states of the USA. The accident data are collected from February 2016 to Dec 2020. Currently there are about 4.2 millions accident records in this dataset.\r\n",
    "\r\n",
    "Source - Kaggle"
   ]
  },
  {
   "cell_type": "code",
   "execution_count": 1,
   "metadata": {
    "colab": {
     "base_uri": "https://localhost:8080/"
    },
    "executionInfo": {
     "elapsed": 6015,
     "status": "ok",
     "timestamp": 1615633251494,
     "user": {
      "displayName": "Sachin Kumar",
      "photoUrl": "",
      "userId": "14743817537594214650"
     },
     "user_tz": -330
    },
    "id": "lYvWr24ccoPY",
    "outputId": "97a7b9ad-97c1-420e-d5a7-e7fb133c988a"
   },
   "outputs": [
    {
     "name": "stdout",
     "output_type": "stream",
     "text": [
      "Requirement already satisfied: kaggle in /usr/local/lib/python3.7/dist-packages (1.5.10)\n",
      "Requirement already satisfied: certifi in /usr/local/lib/python3.7/dist-packages (from kaggle) (2020.12.5)\n",
      "Requirement already satisfied: python-dateutil in /usr/local/lib/python3.7/dist-packages (from kaggle) (2.8.1)\n",
      "Requirement already satisfied: urllib3 in /usr/local/lib/python3.7/dist-packages (from kaggle) (1.24.3)\n",
      "Requirement already satisfied: requests in /usr/local/lib/python3.7/dist-packages (from kaggle) (2.23.0)\n",
      "Requirement already satisfied: tqdm in /usr/local/lib/python3.7/dist-packages (from kaggle) (4.41.1)\n",
      "Requirement already satisfied: six>=1.10 in /usr/local/lib/python3.7/dist-packages (from kaggle) (1.15.0)\n",
      "Requirement already satisfied: python-slugify in /usr/local/lib/python3.7/dist-packages (from kaggle) (4.0.1)\n",
      "Requirement already satisfied: chardet<4,>=3.0.2 in /usr/local/lib/python3.7/dist-packages (from requests->kaggle) (3.0.4)\n",
      "Requirement already satisfied: idna<3,>=2.5 in /usr/local/lib/python3.7/dist-packages (from requests->kaggle) (2.10)\n",
      "Requirement already satisfied: text-unidecode>=1.3 in /usr/local/lib/python3.7/dist-packages (from python-slugify->kaggle) (1.3)\n"
     ]
    }
   ],
   "source": [
    "# getting dataset\r\n",
    "!pip install kaggle\r\n",
    "!mkdir ~/.kaggle\r\n",
    "!touch ~/.kaggle/kaggle.json\r\n",
    "\r\n",
    "api_token = {\"username\":\"sachinkumar20\",\"key\":\"d62f0e4ff97b2bb0c32edf74105574f8\"}\r\n",
    "\r\n",
    "import json\r\n",
    "\r\n",
    "with open('/root/.kaggle/kaggle.json', 'w') as file:\r\n",
    "    json.dump(api_token, file)\r\n",
    "\r\n",
    "!chmod 600 ~/.kaggle/kaggle.json"
   ]
  },
  {
   "cell_type": "code",
   "execution_count": 2,
   "metadata": {
    "colab": {
     "base_uri": "https://localhost:8080/"
    },
    "executionInfo": {
     "elapsed": 9415,
     "status": "ok",
     "timestamp": 1615633254908,
     "user": {
      "displayName": "Sachin Kumar",
      "photoUrl": "",
      "userId": "14743817537594214650"
     },
     "user_tz": -330
    },
    "id": "a6Xx-cAgfI2v",
    "outputId": "9e362d5f-de7b-4405-ee45-3e45805560c8"
   },
   "outputs": [
    {
     "name": "stdout",
     "output_type": "stream",
     "text": [
      "Downloading us-accidents.zip to /content\n",
      " 94% 282M/299M [00:02<00:00, 140MB/s]\n",
      "100% 299M/299M [00:02<00:00, 120MB/s]\n"
     ]
    }
   ],
   "source": [
    "!kaggle datasets download -d sobhanmoosavi/us-accidents"
   ]
  },
  {
   "cell_type": "code",
   "execution_count": 3,
   "metadata": {
    "colab": {
     "base_uri": "https://localhost:8080/"
    },
    "executionInfo": {
     "elapsed": 24206,
     "status": "ok",
     "timestamp": 1615633269710,
     "user": {
      "displayName": "Sachin Kumar",
      "photoUrl": "",
      "userId": "14743817537594214650"
     },
     "user_tz": -330
    },
    "id": "i9LG5VJNfbkY",
    "outputId": "63d6e1bd-e927-44d9-f48e-e593eabaccb1"
   },
   "outputs": [
    {
     "name": "stdout",
     "output_type": "stream",
     "text": [
      "Archive:  us-accidents.zip\n",
      "  inflating: US_Accidents_Dec20.csv  \n"
     ]
    }
   ],
   "source": [
    "!unzip us-accidents.zip"
   ]
  },
  {
   "cell_type": "markdown",
   "metadata": {
    "id": "N1-FD69ygdGB"
   },
   "source": [
    "### Importing and Cleaning Data"
   ]
  },
  {
   "cell_type": "code",
   "execution_count": 4,
   "metadata": {
    "executionInfo": {
     "elapsed": 24204,
     "status": "ok",
     "timestamp": 1615633269712,
     "user": {
      "displayName": "Sachin Kumar",
      "photoUrl": "",
      "userId": "14743817537594214650"
     },
     "user_tz": -330
    },
    "id": "s_W9JlyaglgQ"
   },
   "outputs": [],
   "source": [
    "# importing libraries\r\n",
    "import numpy as np\r\n",
    "import pandas as pd\r\n",
    "import matplotlib.pyplot as plt\r\n",
    "import seaborn as sns"
   ]
  },
  {
   "cell_type": "code",
   "execution_count": 5,
   "metadata": {
    "colab": {
     "base_uri": "https://localhost:8080/",
     "height": 530
    },
    "executionInfo": {
     "elapsed": 70431,
     "status": "ok",
     "timestamp": 1615633315952,
     "user": {
      "displayName": "Sachin Kumar",
      "photoUrl": "",
      "userId": "14743817537594214650"
     },
     "user_tz": -330
    },
    "id": "4TiPJU_ig0c_",
    "outputId": "94eb65b3-c403-4a7d-9083-50540e7742db"
   },
   "outputs": [
    {
     "data": {
      "text/html": [
       "<div>\n",
       "<style scoped>\n",
       "    .dataframe tbody tr th:only-of-type {\n",
       "        vertical-align: middle;\n",
       "    }\n",
       "\n",
       "    .dataframe tbody tr th {\n",
       "        vertical-align: top;\n",
       "    }\n",
       "\n",
       "    .dataframe thead th {\n",
       "        text-align: right;\n",
       "    }\n",
       "</style>\n",
       "<table border=\"1\" class=\"dataframe\">\n",
       "  <thead>\n",
       "    <tr style=\"text-align: right;\">\n",
       "      <th></th>\n",
       "      <th>ID</th>\n",
       "      <th>Source</th>\n",
       "      <th>TMC</th>\n",
       "      <th>Severity</th>\n",
       "      <th>Start_Time</th>\n",
       "      <th>End_Time</th>\n",
       "      <th>Start_Lat</th>\n",
       "      <th>Start_Lng</th>\n",
       "      <th>End_Lat</th>\n",
       "      <th>End_Lng</th>\n",
       "      <th>Distance(mi)</th>\n",
       "      <th>Description</th>\n",
       "      <th>Number</th>\n",
       "      <th>Street</th>\n",
       "      <th>Side</th>\n",
       "      <th>City</th>\n",
       "      <th>County</th>\n",
       "      <th>State</th>\n",
       "      <th>Zipcode</th>\n",
       "      <th>Country</th>\n",
       "      <th>Timezone</th>\n",
       "      <th>Airport_Code</th>\n",
       "      <th>Weather_Timestamp</th>\n",
       "      <th>Temperature(F)</th>\n",
       "      <th>Wind_Chill(F)</th>\n",
       "      <th>Humidity(%)</th>\n",
       "      <th>Pressure(in)</th>\n",
       "      <th>Visibility(mi)</th>\n",
       "      <th>Wind_Direction</th>\n",
       "      <th>Wind_Speed(mph)</th>\n",
       "      <th>Precipitation(in)</th>\n",
       "      <th>Weather_Condition</th>\n",
       "      <th>Amenity</th>\n",
       "      <th>Bump</th>\n",
       "      <th>Crossing</th>\n",
       "      <th>Give_Way</th>\n",
       "      <th>Junction</th>\n",
       "      <th>No_Exit</th>\n",
       "      <th>Railway</th>\n",
       "      <th>Roundabout</th>\n",
       "      <th>Station</th>\n",
       "      <th>Stop</th>\n",
       "      <th>Traffic_Calming</th>\n",
       "      <th>Traffic_Signal</th>\n",
       "      <th>Turning_Loop</th>\n",
       "      <th>Sunrise_Sunset</th>\n",
       "      <th>Civil_Twilight</th>\n",
       "      <th>Nautical_Twilight</th>\n",
       "      <th>Astronomical_Twilight</th>\n",
       "    </tr>\n",
       "  </thead>\n",
       "  <tbody>\n",
       "    <tr>\n",
       "      <th>0</th>\n",
       "      <td>A-1</td>\n",
       "      <td>MapQuest</td>\n",
       "      <td>201.0</td>\n",
       "      <td>3</td>\n",
       "      <td>2016-02-08 05:46:00</td>\n",
       "      <td>2016-02-08 11:00:00</td>\n",
       "      <td>39.865147</td>\n",
       "      <td>-84.058723</td>\n",
       "      <td>NaN</td>\n",
       "      <td>NaN</td>\n",
       "      <td>0.01</td>\n",
       "      <td>Right lane blocked due to accident on I-70 Eas...</td>\n",
       "      <td>NaN</td>\n",
       "      <td>I-70 E</td>\n",
       "      <td>R</td>\n",
       "      <td>Dayton</td>\n",
       "      <td>Montgomery</td>\n",
       "      <td>OH</td>\n",
       "      <td>45424</td>\n",
       "      <td>US</td>\n",
       "      <td>US/Eastern</td>\n",
       "      <td>KFFO</td>\n",
       "      <td>2016-02-08 05:58:00</td>\n",
       "      <td>36.9</td>\n",
       "      <td>NaN</td>\n",
       "      <td>91.0</td>\n",
       "      <td>29.68</td>\n",
       "      <td>10.0</td>\n",
       "      <td>Calm</td>\n",
       "      <td>NaN</td>\n",
       "      <td>0.02</td>\n",
       "      <td>Light Rain</td>\n",
       "      <td>False</td>\n",
       "      <td>False</td>\n",
       "      <td>False</td>\n",
       "      <td>False</td>\n",
       "      <td>False</td>\n",
       "      <td>False</td>\n",
       "      <td>False</td>\n",
       "      <td>False</td>\n",
       "      <td>False</td>\n",
       "      <td>False</td>\n",
       "      <td>False</td>\n",
       "      <td>False</td>\n",
       "      <td>False</td>\n",
       "      <td>Night</td>\n",
       "      <td>Night</td>\n",
       "      <td>Night</td>\n",
       "      <td>Night</td>\n",
       "    </tr>\n",
       "    <tr>\n",
       "      <th>1</th>\n",
       "      <td>A-2</td>\n",
       "      <td>MapQuest</td>\n",
       "      <td>201.0</td>\n",
       "      <td>2</td>\n",
       "      <td>2016-02-08 06:07:59</td>\n",
       "      <td>2016-02-08 06:37:59</td>\n",
       "      <td>39.928059</td>\n",
       "      <td>-82.831184</td>\n",
       "      <td>NaN</td>\n",
       "      <td>NaN</td>\n",
       "      <td>0.01</td>\n",
       "      <td>Accident on Brice Rd at Tussing Rd. Expect del...</td>\n",
       "      <td>2584.0</td>\n",
       "      <td>Brice Rd</td>\n",
       "      <td>L</td>\n",
       "      <td>Reynoldsburg</td>\n",
       "      <td>Franklin</td>\n",
       "      <td>OH</td>\n",
       "      <td>43068-3402</td>\n",
       "      <td>US</td>\n",
       "      <td>US/Eastern</td>\n",
       "      <td>KCMH</td>\n",
       "      <td>2016-02-08 05:51:00</td>\n",
       "      <td>37.9</td>\n",
       "      <td>NaN</td>\n",
       "      <td>100.0</td>\n",
       "      <td>29.65</td>\n",
       "      <td>10.0</td>\n",
       "      <td>Calm</td>\n",
       "      <td>NaN</td>\n",
       "      <td>0.00</td>\n",
       "      <td>Light Rain</td>\n",
       "      <td>False</td>\n",
       "      <td>False</td>\n",
       "      <td>False</td>\n",
       "      <td>False</td>\n",
       "      <td>False</td>\n",
       "      <td>False</td>\n",
       "      <td>False</td>\n",
       "      <td>False</td>\n",
       "      <td>False</td>\n",
       "      <td>False</td>\n",
       "      <td>False</td>\n",
       "      <td>False</td>\n",
       "      <td>False</td>\n",
       "      <td>Night</td>\n",
       "      <td>Night</td>\n",
       "      <td>Night</td>\n",
       "      <td>Day</td>\n",
       "    </tr>\n",
       "    <tr>\n",
       "      <th>2</th>\n",
       "      <td>A-3</td>\n",
       "      <td>MapQuest</td>\n",
       "      <td>201.0</td>\n",
       "      <td>2</td>\n",
       "      <td>2016-02-08 06:49:27</td>\n",
       "      <td>2016-02-08 07:19:27</td>\n",
       "      <td>39.063148</td>\n",
       "      <td>-84.032608</td>\n",
       "      <td>NaN</td>\n",
       "      <td>NaN</td>\n",
       "      <td>0.01</td>\n",
       "      <td>Accident on OH-32 State Route 32 Westbound at ...</td>\n",
       "      <td>NaN</td>\n",
       "      <td>State Route 32</td>\n",
       "      <td>R</td>\n",
       "      <td>Williamsburg</td>\n",
       "      <td>Clermont</td>\n",
       "      <td>OH</td>\n",
       "      <td>45176</td>\n",
       "      <td>US</td>\n",
       "      <td>US/Eastern</td>\n",
       "      <td>KI69</td>\n",
       "      <td>2016-02-08 06:56:00</td>\n",
       "      <td>36.0</td>\n",
       "      <td>33.3</td>\n",
       "      <td>100.0</td>\n",
       "      <td>29.67</td>\n",
       "      <td>10.0</td>\n",
       "      <td>SW</td>\n",
       "      <td>3.5</td>\n",
       "      <td>NaN</td>\n",
       "      <td>Overcast</td>\n",
       "      <td>False</td>\n",
       "      <td>False</td>\n",
       "      <td>False</td>\n",
       "      <td>False</td>\n",
       "      <td>False</td>\n",
       "      <td>False</td>\n",
       "      <td>False</td>\n",
       "      <td>False</td>\n",
       "      <td>False</td>\n",
       "      <td>False</td>\n",
       "      <td>False</td>\n",
       "      <td>True</td>\n",
       "      <td>False</td>\n",
       "      <td>Night</td>\n",
       "      <td>Night</td>\n",
       "      <td>Day</td>\n",
       "      <td>Day</td>\n",
       "    </tr>\n",
       "    <tr>\n",
       "      <th>3</th>\n",
       "      <td>A-4</td>\n",
       "      <td>MapQuest</td>\n",
       "      <td>201.0</td>\n",
       "      <td>3</td>\n",
       "      <td>2016-02-08 07:23:34</td>\n",
       "      <td>2016-02-08 07:53:34</td>\n",
       "      <td>39.747753</td>\n",
       "      <td>-84.205582</td>\n",
       "      <td>NaN</td>\n",
       "      <td>NaN</td>\n",
       "      <td>0.01</td>\n",
       "      <td>Accident on I-75 Southbound at Exits 52 52B US...</td>\n",
       "      <td>NaN</td>\n",
       "      <td>I-75 S</td>\n",
       "      <td>R</td>\n",
       "      <td>Dayton</td>\n",
       "      <td>Montgomery</td>\n",
       "      <td>OH</td>\n",
       "      <td>45417</td>\n",
       "      <td>US</td>\n",
       "      <td>US/Eastern</td>\n",
       "      <td>KDAY</td>\n",
       "      <td>2016-02-08 07:38:00</td>\n",
       "      <td>35.1</td>\n",
       "      <td>31.0</td>\n",
       "      <td>96.0</td>\n",
       "      <td>29.64</td>\n",
       "      <td>9.0</td>\n",
       "      <td>SW</td>\n",
       "      <td>4.6</td>\n",
       "      <td>NaN</td>\n",
       "      <td>Mostly Cloudy</td>\n",
       "      <td>False</td>\n",
       "      <td>False</td>\n",
       "      <td>False</td>\n",
       "      <td>False</td>\n",
       "      <td>False</td>\n",
       "      <td>False</td>\n",
       "      <td>False</td>\n",
       "      <td>False</td>\n",
       "      <td>False</td>\n",
       "      <td>False</td>\n",
       "      <td>False</td>\n",
       "      <td>False</td>\n",
       "      <td>False</td>\n",
       "      <td>Night</td>\n",
       "      <td>Day</td>\n",
       "      <td>Day</td>\n",
       "      <td>Day</td>\n",
       "    </tr>\n",
       "    <tr>\n",
       "      <th>4</th>\n",
       "      <td>A-5</td>\n",
       "      <td>MapQuest</td>\n",
       "      <td>201.0</td>\n",
       "      <td>2</td>\n",
       "      <td>2016-02-08 07:39:07</td>\n",
       "      <td>2016-02-08 08:09:07</td>\n",
       "      <td>39.627781</td>\n",
       "      <td>-84.188354</td>\n",
       "      <td>NaN</td>\n",
       "      <td>NaN</td>\n",
       "      <td>0.01</td>\n",
       "      <td>Accident on McEwen Rd at OH-725 Miamisburg Cen...</td>\n",
       "      <td>NaN</td>\n",
       "      <td>Miamisburg Centerville Rd</td>\n",
       "      <td>R</td>\n",
       "      <td>Dayton</td>\n",
       "      <td>Montgomery</td>\n",
       "      <td>OH</td>\n",
       "      <td>45459</td>\n",
       "      <td>US</td>\n",
       "      <td>US/Eastern</td>\n",
       "      <td>KMGY</td>\n",
       "      <td>2016-02-08 07:53:00</td>\n",
       "      <td>36.0</td>\n",
       "      <td>33.3</td>\n",
       "      <td>89.0</td>\n",
       "      <td>29.65</td>\n",
       "      <td>6.0</td>\n",
       "      <td>SW</td>\n",
       "      <td>3.5</td>\n",
       "      <td>NaN</td>\n",
       "      <td>Mostly Cloudy</td>\n",
       "      <td>False</td>\n",
       "      <td>False</td>\n",
       "      <td>False</td>\n",
       "      <td>False</td>\n",
       "      <td>False</td>\n",
       "      <td>False</td>\n",
       "      <td>False</td>\n",
       "      <td>False</td>\n",
       "      <td>False</td>\n",
       "      <td>False</td>\n",
       "      <td>False</td>\n",
       "      <td>True</td>\n",
       "      <td>False</td>\n",
       "      <td>Day</td>\n",
       "      <td>Day</td>\n",
       "      <td>Day</td>\n",
       "      <td>Day</td>\n",
       "    </tr>\n",
       "  </tbody>\n",
       "</table>\n",
       "</div>"
      ],
      "text/plain": [
       "    ID    Source    TMC  ...  Civil_Twilight Nautical_Twilight Astronomical_Twilight\n",
       "0  A-1  MapQuest  201.0  ...           Night             Night                 Night\n",
       "1  A-2  MapQuest  201.0  ...           Night             Night                   Day\n",
       "2  A-3  MapQuest  201.0  ...           Night               Day                   Day\n",
       "3  A-4  MapQuest  201.0  ...             Day               Day                   Day\n",
       "4  A-5  MapQuest  201.0  ...             Day               Day                   Day\n",
       "\n",
       "[5 rows x 49 columns]"
      ]
     },
     "execution_count": 5,
     "metadata": {
      "tags": []
     },
     "output_type": "execute_result"
    }
   ],
   "source": [
    "us_acc = pd.read_csv('/content/US_Accidents_Dec20.csv')\r\n",
    "us_acc.head()"
   ]
  },
  {
   "cell_type": "markdown",
   "metadata": {
    "id": "zdPkOdOohevu"
   },
   "source": [
    "#### Knowing data"
   ]
  },
  {
   "cell_type": "code",
   "execution_count": 6,
   "metadata": {
    "colab": {
     "base_uri": "https://localhost:8080/"
    },
    "executionInfo": {
     "elapsed": 70420,
     "status": "ok",
     "timestamp": 1615633315954,
     "user": {
      "displayName": "Sachin Kumar",
      "photoUrl": "",
      "userId": "14743817537594214650"
     },
     "user_tz": -330
    },
    "id": "p1z4vPi5hSup",
    "outputId": "dd967667-0820-4820-aeb2-20e7b5b4676a"
   },
   "outputs": [
    {
     "data": {
      "text/plain": [
       "Index(['ID', 'Source', 'TMC', 'Severity', 'Start_Time', 'End_Time',\n",
       "       'Start_Lat', 'Start_Lng', 'End_Lat', 'End_Lng', 'Distance(mi)',\n",
       "       'Description', 'Number', 'Street', 'Side', 'City', 'County', 'State',\n",
       "       'Zipcode', 'Country', 'Timezone', 'Airport_Code', 'Weather_Timestamp',\n",
       "       'Temperature(F)', 'Wind_Chill(F)', 'Humidity(%)', 'Pressure(in)',\n",
       "       'Visibility(mi)', 'Wind_Direction', 'Wind_Speed(mph)',\n",
       "       'Precipitation(in)', 'Weather_Condition', 'Amenity', 'Bump', 'Crossing',\n",
       "       'Give_Way', 'Junction', 'No_Exit', 'Railway', 'Roundabout', 'Station',\n",
       "       'Stop', 'Traffic_Calming', 'Traffic_Signal', 'Turning_Loop',\n",
       "       'Sunrise_Sunset', 'Civil_Twilight', 'Nautical_Twilight',\n",
       "       'Astronomical_Twilight'],\n",
       "      dtype='object')"
      ]
     },
     "execution_count": 6,
     "metadata": {
      "tags": []
     },
     "output_type": "execute_result"
    }
   ],
   "source": [
    "# Columns\r\n",
    "us_acc.columns\r\n"
   ]
  },
  {
   "cell_type": "code",
   "execution_count": 7,
   "metadata": {
    "colab": {
     "base_uri": "https://localhost:8080/"
    },
    "executionInfo": {
     "elapsed": 70413,
     "status": "ok",
     "timestamp": 1615633315958,
     "user": {
      "displayName": "Sachin Kumar",
      "photoUrl": "",
      "userId": "14743817537594214650"
     },
     "user_tz": -330
    },
    "id": "N_EvOccIhtcx",
    "outputId": "dd5b3d86-eb88-4f26-b9e3-65dab0c12db0"
   },
   "outputs": [
    {
     "data": {
      "text/plain": [
       "4232541"
      ]
     },
     "execution_count": 7,
     "metadata": {
      "tags": []
     },
     "output_type": "execute_result"
    }
   ],
   "source": [
    "# Size of data\r\n",
    "len(us_acc)"
   ]
  },
  {
   "cell_type": "code",
   "execution_count": 8,
   "metadata": {
    "colab": {
     "base_uri": "https://localhost:8080/"
    },
    "executionInfo": {
     "elapsed": 70406,
     "status": "ok",
     "timestamp": 1615633315961,
     "user": {
      "displayName": "Sachin Kumar",
      "photoUrl": "",
      "userId": "14743817537594214650"
     },
     "user_tz": -330
    },
    "id": "MHTvtx3miFYH",
    "outputId": "429e48c9-c481-4544-f10d-aecd33d38099"
   },
   "outputs": [
    {
     "name": "stdout",
     "output_type": "stream",
     "text": [
      "<class 'pandas.core.frame.DataFrame'>\n",
      "RangeIndex: 4232541 entries, 0 to 4232540\n",
      "Data columns (total 49 columns):\n",
      " #   Column                 Dtype  \n",
      "---  ------                 -----  \n",
      " 0   ID                     object \n",
      " 1   Source                 object \n",
      " 2   TMC                    float64\n",
      " 3   Severity               int64  \n",
      " 4   Start_Time             object \n",
      " 5   End_Time               object \n",
      " 6   Start_Lat              float64\n",
      " 7   Start_Lng              float64\n",
      " 8   End_Lat                float64\n",
      " 9   End_Lng                float64\n",
      " 10  Distance(mi)           float64\n",
      " 11  Description            object \n",
      " 12  Number                 float64\n",
      " 13  Street                 object \n",
      " 14  Side                   object \n",
      " 15  City                   object \n",
      " 16  County                 object \n",
      " 17  State                  object \n",
      " 18  Zipcode                object \n",
      " 19  Country                object \n",
      " 20  Timezone               object \n",
      " 21  Airport_Code           object \n",
      " 22  Weather_Timestamp      object \n",
      " 23  Temperature(F)         float64\n",
      " 24  Wind_Chill(F)          float64\n",
      " 25  Humidity(%)            float64\n",
      " 26  Pressure(in)           float64\n",
      " 27  Visibility(mi)         float64\n",
      " 28  Wind_Direction         object \n",
      " 29  Wind_Speed(mph)        float64\n",
      " 30  Precipitation(in)      float64\n",
      " 31  Weather_Condition      object \n",
      " 32  Amenity                bool   \n",
      " 33  Bump                   bool   \n",
      " 34  Crossing               bool   \n",
      " 35  Give_Way               bool   \n",
      " 36  Junction               bool   \n",
      " 37  No_Exit                bool   \n",
      " 38  Railway                bool   \n",
      " 39  Roundabout             bool   \n",
      " 40  Station                bool   \n",
      " 41  Stop                   bool   \n",
      " 42  Traffic_Calming        bool   \n",
      " 43  Traffic_Signal         bool   \n",
      " 44  Turning_Loop           bool   \n",
      " 45  Sunrise_Sunset         object \n",
      " 46  Civil_Twilight         object \n",
      " 47  Nautical_Twilight      object \n",
      " 48  Astronomical_Twilight  object \n",
      "dtypes: bool(13), float64(14), int64(1), object(21)\n",
      "memory usage: 1.2+ GB\n"
     ]
    }
   ],
   "source": [
    "# Data types of columns\r\n",
    "us_acc.info()"
   ]
  },
  {
   "cell_type": "code",
   "execution_count": 9,
   "metadata": {
    "colab": {
     "base_uri": "https://localhost:8080/",
     "height": 317
    },
    "executionInfo": {
     "elapsed": 72474,
     "status": "ok",
     "timestamp": 1615633318042,
     "user": {
      "displayName": "Sachin Kumar",
      "photoUrl": "",
      "userId": "14743817537594214650"
     },
     "user_tz": -330
    },
    "id": "4MtaWJIM9JIg",
    "outputId": "e515accb-ef99-4cfc-bcc2-5b6ede1630d4"
   },
   "outputs": [
    {
     "data": {
      "text/html": [
       "<div>\n",
       "<style scoped>\n",
       "    .dataframe tbody tr th:only-of-type {\n",
       "        vertical-align: middle;\n",
       "    }\n",
       "\n",
       "    .dataframe tbody tr th {\n",
       "        vertical-align: top;\n",
       "    }\n",
       "\n",
       "    .dataframe thead th {\n",
       "        text-align: right;\n",
       "    }\n",
       "</style>\n",
       "<table border=\"1\" class=\"dataframe\">\n",
       "  <thead>\n",
       "    <tr style=\"text-align: right;\">\n",
       "      <th></th>\n",
       "      <th>TMC</th>\n",
       "      <th>Severity</th>\n",
       "      <th>Start_Lat</th>\n",
       "      <th>Start_Lng</th>\n",
       "      <th>End_Lat</th>\n",
       "      <th>End_Lng</th>\n",
       "      <th>Distance(mi)</th>\n",
       "      <th>Number</th>\n",
       "      <th>Temperature(F)</th>\n",
       "      <th>Wind_Chill(F)</th>\n",
       "      <th>Humidity(%)</th>\n",
       "      <th>Pressure(in)</th>\n",
       "      <th>Visibility(mi)</th>\n",
       "      <th>Wind_Speed(mph)</th>\n",
       "      <th>Precipitation(in)</th>\n",
       "    </tr>\n",
       "  </thead>\n",
       "  <tbody>\n",
       "    <tr>\n",
       "      <th>count</th>\n",
       "      <td>2.716477e+06</td>\n",
       "      <td>4.232541e+06</td>\n",
       "      <td>4.232541e+06</td>\n",
       "      <td>4.232541e+06</td>\n",
       "      <td>1.516064e+06</td>\n",
       "      <td>1.516064e+06</td>\n",
       "      <td>4.232541e+06</td>\n",
       "      <td>1.544592e+06</td>\n",
       "      <td>4.142641e+06</td>\n",
       "      <td>2.336540e+06</td>\n",
       "      <td>4.137074e+06</td>\n",
       "      <td>4.156157e+06</td>\n",
       "      <td>4.133873e+06</td>\n",
       "      <td>3.753215e+06</td>\n",
       "      <td>2.166952e+06</td>\n",
       "    </tr>\n",
       "    <tr>\n",
       "      <th>mean</th>\n",
       "      <td>2.083517e+02</td>\n",
       "      <td>2.305035e+00</td>\n",
       "      <td>3.639782e+01</td>\n",
       "      <td>-9.546420e+01</td>\n",
       "      <td>3.690061e+01</td>\n",
       "      <td>-9.859901e+01</td>\n",
       "      <td>3.357021e-01</td>\n",
       "      <td>6.141507e+03</td>\n",
       "      <td>6.147799e+01</td>\n",
       "      <td>5.489319e+01</td>\n",
       "      <td>6.567422e+01</td>\n",
       "      <td>2.969371e+01</td>\n",
       "      <td>9.111991e+00</td>\n",
       "      <td>7.903433e+00</td>\n",
       "      <td>1.244719e-02</td>\n",
       "    </tr>\n",
       "    <tr>\n",
       "      <th>std</th>\n",
       "      <td>2.124413e+01</td>\n",
       "      <td>5.332261e-01</td>\n",
       "      <td>4.964404e+00</td>\n",
       "      <td>1.735319e+01</td>\n",
       "      <td>5.165629e+00</td>\n",
       "      <td>1.849590e+01</td>\n",
       "      <td>1.602143e+00</td>\n",
       "      <td>1.492268e+04</td>\n",
       "      <td>1.852586e+01</td>\n",
       "      <td>2.272355e+01</td>\n",
       "      <td>2.272342e+01</td>\n",
       "      <td>8.639260e-01</td>\n",
       "      <td>2.817582e+00</td>\n",
       "      <td>5.330998e+00</td>\n",
       "      <td>1.637154e-01</td>\n",
       "    </tr>\n",
       "    <tr>\n",
       "      <th>min</th>\n",
       "      <td>2.000000e+02</td>\n",
       "      <td>1.000000e+00</td>\n",
       "      <td>2.455527e+01</td>\n",
       "      <td>-1.246238e+02</td>\n",
       "      <td>2.457011e+01</td>\n",
       "      <td>-1.244978e+02</td>\n",
       "      <td>0.000000e+00</td>\n",
       "      <td>0.000000e+00</td>\n",
       "      <td>-8.900000e+01</td>\n",
       "      <td>-8.900000e+01</td>\n",
       "      <td>1.000000e+00</td>\n",
       "      <td>0.000000e+00</td>\n",
       "      <td>0.000000e+00</td>\n",
       "      <td>0.000000e+00</td>\n",
       "      <td>0.000000e+00</td>\n",
       "    </tr>\n",
       "    <tr>\n",
       "      <th>25%</th>\n",
       "      <td>2.010000e+02</td>\n",
       "      <td>2.000000e+00</td>\n",
       "      <td>3.352058e+01</td>\n",
       "      <td>-1.173570e+02</td>\n",
       "      <td>3.385420e+01</td>\n",
       "      <td>-1.182077e+02</td>\n",
       "      <td>0.000000e+00</td>\n",
       "      <td>8.980000e+02</td>\n",
       "      <td>4.900000e+01</td>\n",
       "      <td>3.800000e+01</td>\n",
       "      <td>4.900000e+01</td>\n",
       "      <td>2.964000e+01</td>\n",
       "      <td>1.000000e+01</td>\n",
       "      <td>4.600000e+00</td>\n",
       "      <td>0.000000e+00</td>\n",
       "    </tr>\n",
       "    <tr>\n",
       "      <th>50%</th>\n",
       "      <td>2.010000e+02</td>\n",
       "      <td>2.000000e+00</td>\n",
       "      <td>3.582542e+01</td>\n",
       "      <td>-9.002078e+01</td>\n",
       "      <td>3.735134e+01</td>\n",
       "      <td>-9.437987e+01</td>\n",
       "      <td>0.000000e+00</td>\n",
       "      <td>2.890000e+03</td>\n",
       "      <td>6.300000e+01</td>\n",
       "      <td>5.800000e+01</td>\n",
       "      <td>6.800000e+01</td>\n",
       "      <td>2.993000e+01</td>\n",
       "      <td>1.000000e+01</td>\n",
       "      <td>7.000000e+00</td>\n",
       "      <td>0.000000e+00</td>\n",
       "    </tr>\n",
       "    <tr>\n",
       "      <th>75%</th>\n",
       "      <td>2.010000e+02</td>\n",
       "      <td>3.000000e+00</td>\n",
       "      <td>4.018313e+01</td>\n",
       "      <td>-8.084682e+01</td>\n",
       "      <td>4.072593e+01</td>\n",
       "      <td>-8.087449e+01</td>\n",
       "      <td>8.900000e-02</td>\n",
       "      <td>7.330000e+03</td>\n",
       "      <td>7.520000e+01</td>\n",
       "      <td>7.300000e+01</td>\n",
       "      <td>8.500000e+01</td>\n",
       "      <td>3.008000e+01</td>\n",
       "      <td>1.000000e+01</td>\n",
       "      <td>1.040000e+01</td>\n",
       "      <td>0.000000e+00</td>\n",
       "    </tr>\n",
       "    <tr>\n",
       "      <th>max</th>\n",
       "      <td>4.060000e+02</td>\n",
       "      <td>4.000000e+00</td>\n",
       "      <td>4.900220e+01</td>\n",
       "      <td>-6.711317e+01</td>\n",
       "      <td>4.907500e+01</td>\n",
       "      <td>-6.710924e+01</td>\n",
       "      <td>4.417500e+02</td>\n",
       "      <td>9.999997e+06</td>\n",
       "      <td>2.030000e+02</td>\n",
       "      <td>1.890000e+02</td>\n",
       "      <td>1.000000e+02</td>\n",
       "      <td>5.804000e+01</td>\n",
       "      <td>1.400000e+02</td>\n",
       "      <td>9.840000e+02</td>\n",
       "      <td>2.500000e+01</td>\n",
       "    </tr>\n",
       "  </tbody>\n",
       "</table>\n",
       "</div>"
      ],
      "text/plain": [
       "                TMC      Severity  ...  Wind_Speed(mph)  Precipitation(in)\n",
       "count  2.716477e+06  4.232541e+06  ...     3.753215e+06       2.166952e+06\n",
       "mean   2.083517e+02  2.305035e+00  ...     7.903433e+00       1.244719e-02\n",
       "std    2.124413e+01  5.332261e-01  ...     5.330998e+00       1.637154e-01\n",
       "min    2.000000e+02  1.000000e+00  ...     0.000000e+00       0.000000e+00\n",
       "25%    2.010000e+02  2.000000e+00  ...     4.600000e+00       0.000000e+00\n",
       "50%    2.010000e+02  2.000000e+00  ...     7.000000e+00       0.000000e+00\n",
       "75%    2.010000e+02  3.000000e+00  ...     1.040000e+01       0.000000e+00\n",
       "max    4.060000e+02  4.000000e+00  ...     9.840000e+02       2.500000e+01\n",
       "\n",
       "[8 rows x 15 columns]"
      ]
     },
     "execution_count": 9,
     "metadata": {
      "tags": []
     },
     "output_type": "execute_result"
    }
   ],
   "source": [
    "# getting info about numerical columns\r\n",
    "us_acc.describe()\r\n"
   ]
  },
  {
   "cell_type": "code",
   "execution_count": 9,
   "metadata": {
    "executionInfo": {
     "elapsed": 72472,
     "status": "ok",
     "timestamp": 1615633318045,
     "user": {
      "displayName": "Sachin Kumar",
      "photoUrl": "",
      "userId": "14743817537594214650"
     },
     "user_tz": -330
    },
    "id": "GqlvfJDk_Szw"
   },
   "outputs": [],
   "source": []
  },
  {
   "cell_type": "markdown",
   "metadata": {
    "id": "4AQPsvmi_irT"
   },
   "source": [
    "#### Cleaning data"
   ]
  },
  {
   "cell_type": "code",
   "execution_count": 10,
   "metadata": {
    "colab": {
     "base_uri": "https://localhost:8080/"
    },
    "executionInfo": {
     "elapsed": 76441,
     "status": "ok",
     "timestamp": 1615633322025,
     "user": {
      "displayName": "Sachin Kumar",
      "photoUrl": "",
      "userId": "14743817537594214650"
     },
     "user_tz": -330
    },
    "id": "wQ9zvpRL_S2n",
    "outputId": "18b5f496-f25f-4713-aee6-668b29b9c6b8"
   },
   "outputs": [
    {
     "data": {
      "text/plain": [
       "End_Lat                  2716477\n",
       "End_Lng                  2716477\n",
       "Number                   2687949\n",
       "Precipitation(in)        2065589\n",
       "Wind_Chill(F)            1896001\n",
       "TMC                      1516064\n",
       "Wind_Speed(mph)           479326\n",
       "Visibility(mi)             98668\n",
       "Weather_Condition          98383\n",
       "Humidity(%)                95467\n",
       "Temperature(F)             89900\n",
       "Wind_Direction             83611\n",
       "Pressure(in)               76384\n",
       "Weather_Timestamp          62644\n",
       "Airport_Code                8973\n",
       "Timezone                    4615\n",
       "Zipcode                     1292\n",
       "Nautical_Twilight            141\n",
       "Astronomical_Twilight        141\n",
       "Civil_Twilight               141\n",
       "Sunrise_Sunset               141\n",
       "City                         137\n",
       "Description                    2\n",
       "dtype: int64"
      ]
     },
     "execution_count": 10,
     "metadata": {
      "tags": []
     },
     "output_type": "execute_result"
    }
   ],
   "source": [
    "# getting count of null values in columns\r\n",
    "null_counts = us_acc.isna().sum().sort_values(ascending=False)\r\n",
    "null_counts[null_counts > 0]"
   ]
  },
  {
   "cell_type": "code",
   "execution_count": 10,
   "metadata": {
    "executionInfo": {
     "elapsed": 76440,
     "status": "ok",
     "timestamp": 1615633322028,
     "user": {
      "displayName": "Sachin Kumar",
      "photoUrl": "",
      "userId": "14743817537594214650"
     },
     "user_tz": -330
    },
    "id": "xEftGcio_S5Z"
   },
   "outputs": [],
   "source": []
  },
  {
   "cell_type": "markdown",
   "metadata": {
    "id": "FXqZU1kmMKci"
   },
   "source": [
    "### Data Analysis and Visualization"
   ]
  },
  {
   "cell_type": "markdown",
   "metadata": {
    "id": "X2J_7qvRM_7r"
   },
   "source": [
    "Columns we will be using for analysis\r\n",
    "1. State \r\n",
    "2. City\r\n",
    "3. Start time\r\n",
    "4. Weather condition\r\n",
    "5. Temperature\r\n",
    "6. Severity \r\n",
    "7. Other Factors such as Bump, Crossing, No_Exit, Roundabout etc. \r\n",
    "  \r\n"
   ]
  },
  {
   "cell_type": "markdown",
   "metadata": {
    "id": "0aHwWg2mhCax"
   },
   "source": [
    "#### State"
   ]
  },
  {
   "cell_type": "code",
   "execution_count": 11,
   "metadata": {
    "colab": {
     "base_uri": "https://localhost:8080/"
    },
    "executionInfo": {
     "elapsed": 76954,
     "status": "ok",
     "timestamp": 1615633322553,
     "user": {
      "displayName": "Sachin Kumar",
      "photoUrl": "",
      "userId": "14743817537594214650"
     },
     "user_tz": -330
    },
    "id": "9oW1qGQg_S79",
    "outputId": "08ac5085-b8ef-452b-c24d-5bd0bb732765"
   },
   "outputs": [
    {
     "data": {
      "text/plain": [
       "CA    972585\n",
       "TX    376445\n",
       "FL    370131\n",
       "SC    212712\n",
       "NC    193457\n",
       "Name: State, dtype: int64"
      ]
     },
     "execution_count": 11,
     "metadata": {
      "tags": []
     },
     "output_type": "execute_result"
    }
   ],
   "source": [
    "# State\r\n",
    "accidents_by_state = us_acc['State'].value_counts()\r\n",
    "accidents_by_state.head()"
   ]
  },
  {
   "cell_type": "code",
   "execution_count": 12,
   "metadata": {
    "executionInfo": {
     "elapsed": 76955,
     "status": "ok",
     "timestamp": 1615633322557,
     "user": {
      "displayName": "Sachin Kumar",
      "photoUrl": "",
      "userId": "14743817537594214650"
     },
     "user_tz": -330
    },
    "id": "iF4mXGg9NRq-"
   },
   "outputs": [],
   "source": [
    "# adding ranks to state\r\n",
    "def get_rank(state):\r\n",
    "  value = accidents_by_state[state]\r\n",
    "  accidents_by_state_rank = pd.Index(accidents_by_state)\r\n",
    "  rank = accidents_by_state_rank.get_loc(value)\r\n",
    "  print(rank)"
   ]
  },
  {
   "cell_type": "code",
   "execution_count": 13,
   "metadata": {
    "colab": {
     "base_uri": "https://localhost:8080/"
    },
    "executionInfo": {
     "elapsed": 76950,
     "status": "ok",
     "timestamp": 1615633322563,
     "user": {
      "displayName": "Sachin Kumar",
      "photoUrl": "",
      "userId": "14743817537594214650"
     },
     "user_tz": -330
    },
    "id": "-QzVXqLfV86-",
    "outputId": "3d6e5de8-f7a8-414e-b027-7d436d320a2e"
   },
   "outputs": [
    {
     "name": "stdout",
     "output_type": "stream",
     "text": [
      "5\n"
     ]
    }
   ],
   "source": [
    "get_rank('NY')"
   ]
  },
  {
   "cell_type": "code",
   "execution_count": 14,
   "metadata": {
    "colab": {
     "base_uri": "https://localhost:8080/"
    },
    "executionInfo": {
     "elapsed": 76941,
     "status": "ok",
     "timestamp": 1615633322565,
     "user": {
      "displayName": "Sachin Kumar",
      "photoUrl": "",
      "userId": "14743817537594214650"
     },
     "user_tz": -330
    },
    "id": "mHkdMNj-Oae1",
    "outputId": "3467c2b2-ec2b-412f-a077-01efddf45b5b"
   },
   "outputs": [
    {
     "data": {
      "text/plain": [
       "CA    972585\n",
       "TX    376445\n",
       "FL    370131\n",
       "SC    212712\n",
       "NC    193457\n",
       "NY    189513\n",
       "PA    136049\n",
       "VA    127949\n",
       "IL    111712\n",
       "OR    108352\n",
       "Name: State, dtype: int64"
      ]
     },
     "execution_count": 14,
     "metadata": {
      "tags": []
     },
     "output_type": "execute_result"
    }
   ],
   "source": [
    "accidents_by_state[:10]"
   ]
  },
  {
   "cell_type": "code",
   "execution_count": 15,
   "metadata": {
    "colab": {
     "base_uri": "https://localhost:8080/",
     "height": 295
    },
    "executionInfo": {
     "elapsed": 76929,
     "status": "ok",
     "timestamp": 1615633322567,
     "user": {
      "displayName": "Sachin Kumar",
      "photoUrl": "",
      "userId": "14743817537594214650"
     },
     "user_tz": -330
    },
    "id": "hOhxz58TOsWD",
    "outputId": "cfc9bcc3-095a-424f-fbd6-39aa9a7a7e20"
   },
   "outputs": [
    {
     "data": {
      "text/plain": [
       "<matplotlib.axes._subplots.AxesSubplot at 0x7f497811da50>"
      ]
     },
     "execution_count": 15,
     "metadata": {
      "tags": []
     },
     "output_type": "execute_result"
    },
    {
     "data": {
      "image/png": "[encoded data removed]",
      "text/plain": [
       "<Figure size 432x288 with 1 Axes>"
      ]
     },
     "metadata": {
      "needs_background": "light",
      "tags": []
     },
     "output_type": "display_data"
    }
   ],
   "source": [
    "accidents_by_state[:10].plot(kind='barh')"
   ]
  },
  {
   "cell_type": "markdown",
   "metadata": {
    "id": "LJQeS8c1hO3H"
   },
   "source": [
    "#### City"
   ]
  },
  {
   "cell_type": "code",
   "execution_count": 16,
   "metadata": {
    "colab": {
     "base_uri": "https://localhost:8080/"
    },
    "executionInfo": {
     "elapsed": 77409,
     "status": "ok",
     "timestamp": 1615633323058,
     "user": {
      "displayName": "Sachin Kumar",
      "photoUrl": "",
      "userId": "14743817537594214650"
     },
     "user_tz": -330
    },
    "id": "2a6Cn7cHPYl_",
    "outputId": "83b67503-fac1-4b5c-d491-edddc339c4de"
   },
   "outputs": [
    {
     "data": {
      "text/plain": [
       "Houston          114905\n",
       "Los Angeles       92701\n",
       "Charlotte         88887\n",
       "Dallas            77303\n",
       "Austin            70538\n",
       "Miami             63162\n",
       "Raleigh           52876\n",
       "Atlanta           46328\n",
       "Baton Rouge       42814\n",
       "Nashville         41850\n",
       "Orlando           39561\n",
       "Oklahoma City     39484\n",
       "Sacramento        38061\n",
       "Phoenix           32805\n",
       "Minneapolis       31781\n",
       "San Diego         29416\n",
       "Seattle           28004\n",
       "Richmond          27907\n",
       "San Antonio       27516\n",
       "Jacksonville      24009\n",
       "Name: City, dtype: int64"
      ]
     },
     "execution_count": 16,
     "metadata": {
      "tags": []
     },
     "output_type": "execute_result"
    }
   ],
   "source": [
    "# City\r\n",
    "accidents_by_city = us_acc['City'].value_counts()\r\n",
    "accidents_by_city[:20]"
   ]
  },
  {
   "cell_type": "code",
   "execution_count": 17,
   "metadata": {
    "colab": {
     "base_uri": "https://localhost:8080/",
     "height": 282
    },
    "executionInfo": {
     "elapsed": 77965,
     "status": "ok",
     "timestamp": 1615633323627,
     "user": {
      "displayName": "Sachin Kumar",
      "photoUrl": "",
      "userId": "14743817537594214650"
     },
     "user_tz": -330
    },
    "id": "y3V7_PYWRnN9",
    "outputId": "358cb7b4-feda-42a7-f0bd-72c82ff6ce99"
   },
   "outputs": [
    {
     "data": {
      "text/plain": [
       "<matplotlib.axes._subplots.AxesSubplot at 0x7f48fc9094d0>"
      ]
     },
     "execution_count": 17,
     "metadata": {
      "tags": []
     },
     "output_type": "execute_result"
    },
    {
     "data": {
      "image/png": "[encoded data removed]",
      "text/plain": [
       "<Figure size 432x288 with 1 Axes>"
      ]
     },
     "metadata": {
      "needs_background": "light",
      "tags": []
     },
     "output_type": "display_data"
    }
   ],
   "source": [
    "# getting a graph\r\n",
    "accidents_by_city[:20].plot(kind='barh')"
   ]
  },
  {
   "cell_type": "markdown",
   "metadata": {
    "id": "h-vodtAwhTrp"
   },
   "source": [
    "#### NY Details"
   ]
  },
  {
   "cell_type": "code",
   "execution_count": 18,
   "metadata": {
    "colab": {
     "base_uri": "https://localhost:8080/"
    },
    "executionInfo": {
     "elapsed": 78395,
     "status": "ok",
     "timestamp": 1615633324069,
     "user": {
      "displayName": "Sachin Kumar",
      "photoUrl": "",
      "userId": "14743817537594214650"
     },
     "user_tz": -330
    },
    "id": "XbwpYVHdP8ll",
    "outputId": "a72c4b00-a8be-43e9-a03e-62ee6aa1bbe6"
   },
   "outputs": [
    {
     "data": {
      "text/plain": [
       "True"
      ]
     },
     "execution_count": 18,
     "metadata": {
      "tags": []
     },
     "output_type": "execute_result"
    }
   ],
   "source": [
    "# Check if NY in States:\r\n",
    "'NY' in list(us_acc['State'])"
   ]
  },
  {
   "cell_type": "code",
   "execution_count": 19,
   "metadata": {
    "colab": {
     "base_uri": "https://localhost:8080/"
    },
    "executionInfo": {
     "elapsed": 78386,
     "status": "ok",
     "timestamp": 1615633324070,
     "user": {
      "displayName": "Sachin Kumar",
      "photoUrl": "",
      "userId": "14743817537594214650"
     },
     "user_tz": -330
    },
    "id": "hOtyzSpIQaCD",
    "outputId": "5d087e64-3a51-4f58-cdc5-623d04f2baa8"
   },
   "outputs": [
    {
     "data": {
      "text/plain": [
       "array(['OH', 'WV', 'CA', 'FL', 'GA', 'SC', 'NE', 'IA', 'IL', 'MO', 'WI',\n",
       "       'IN', 'MI', 'NJ', 'NY', 'CT', 'MA', 'RI', 'NH', 'PA', 'KY', 'MD',\n",
       "       'VA', 'DC', 'DE', 'TX', 'WA', 'OR', 'AL', 'ME', 'VT', 'TN', 'NC',\n",
       "       'KS', 'MN', 'LA', 'OK', 'AR', 'UT', 'CO', 'AZ', 'NM', 'NV', 'MS',\n",
       "       'ID', 'WY', 'MT', 'ND', 'SD'], dtype=object)"
      ]
     },
     "execution_count": 19,
     "metadata": {
      "tags": []
     },
     "output_type": "execute_result"
    }
   ],
   "source": [
    "us_acc['State'].unique()"
   ]
  },
  {
   "cell_type": "code",
   "execution_count": 20,
   "metadata": {
    "colab": {
     "base_uri": "https://localhost:8080/"
    },
    "executionInfo": {
     "elapsed": 78848,
     "status": "ok",
     "timestamp": 1615633324543,
     "user": {
      "displayName": "Sachin Kumar",
      "photoUrl": "",
      "userId": "14743817537594214650"
     },
     "user_tz": -330
    },
    "id": "o5rtN_qLQvUX",
    "outputId": "35a1fe63-609c-4b5e-b709-ce66c1858fd3"
   },
   "outputs": [
    {
     "data": {
      "text/plain": [
       "True"
      ]
     },
     "execution_count": 20,
     "metadata": {
      "tags": []
     },
     "output_type": "execute_result"
    }
   ],
   "source": [
    "# Check if New York in cities\r\n",
    "'New York' in list(us_acc['City'])"
   ]
  },
  {
   "cell_type": "code",
   "execution_count": 21,
   "metadata": {
    "executionInfo": {
     "elapsed": 78847,
     "status": "ok",
     "timestamp": 1615633324545,
     "user": {
      "displayName": "Sachin Kumar",
      "photoUrl": "",
      "userId": "14743817537594214650"
     },
     "user_tz": -330
    },
    "id": "XJrCw2k8Wgfh"
   },
   "outputs": [],
   "source": [
    "# Check where New York ranks in cities\r\n",
    "x = list(accidents_by_city)\r\n",
    "# Check again"
   ]
  },
  {
   "cell_type": "markdown",
   "metadata": {
    "id": "of2dy5f7hbCa"
   },
   "source": [
    "#### Weather"
   ]
  },
  {
   "cell_type": "code",
   "execution_count": 22,
   "metadata": {
    "colab": {
     "base_uri": "https://localhost:8080/"
    },
    "executionInfo": {
     "elapsed": 79369,
     "status": "ok",
     "timestamp": 1615633325077,
     "user": {
      "displayName": "Sachin Kumar",
      "photoUrl": "",
      "userId": "14743817537594214650"
     },
     "user_tz": -330
    },
    "id": "gtSesDYpZBbH",
    "outputId": "aded2882-6be7-46dd-b0ff-432d9d4c7c55"
   },
   "outputs": [
    {
     "data": {
      "text/plain": [
       "Fair                900872\n",
       "Clear               808181\n",
       "Mostly Cloudy       571743\n",
       "Partly Cloudy       397415\n",
       "Overcast            382485\n",
       "Cloudy              323340\n",
       "Light Rain          206389\n",
       "Scattered Clouds    204661\n",
       "Light Snow           57148\n",
       "Rain                 48641\n",
       "Name: Weather_Condition, dtype: int64"
      ]
     },
     "execution_count": 22,
     "metadata": {
      "tags": []
     },
     "output_type": "execute_result"
    }
   ],
   "source": [
    "# Weather\r\n",
    "weather_values = us_acc['Weather_Condition'].value_counts()\r\n",
    "weather_values[:10]"
   ]
  },
  {
   "cell_type": "markdown",
   "metadata": {
    "id": "Jtmv4u9Whewp"
   },
   "source": [
    "#### Temperature(F)"
   ]
  },
  {
   "cell_type": "code",
   "execution_count": 23,
   "metadata": {
    "executionInfo": {
     "elapsed": 79369,
     "status": "ok",
     "timestamp": 1615633325081,
     "user": {
      "displayName": "Sachin Kumar",
      "photoUrl": "",
      "userId": "14743817537594214650"
     },
     "user_tz": -330
    },
    "id": "lA8djVYKZue8"
   },
   "outputs": [],
   "source": [
    "# Temperature\r\n",
    "temperature_values = us_acc['Temperature(F)'].value_counts()"
   ]
  },
  {
   "cell_type": "code",
   "execution_count": 24,
   "metadata": {
    "colab": {
     "base_uri": "https://localhost:8080/"
    },
    "executionInfo": {
     "elapsed": 79360,
     "status": "ok",
     "timestamp": 1615633325083,
     "user": {
      "displayName": "Sachin Kumar",
      "photoUrl": "",
      "userId": "14743817537594214650"
     },
     "user_tz": -330
    },
    "id": "O7s3TdLMaZPE",
    "outputId": "cfc23aa5-6c22-4f68-ba18-8e43da851691"
   },
   "outputs": [
    {
     "data": {
      "text/plain": [
       "68.0    91545\n",
       "77.0    90041\n",
       "59.0    86347\n",
       "73.0    84212\n",
       "63.0    80072\n",
       "        ...  \n",
       "96.1     3041\n",
       "17.1     2993\n",
       "12.0     2883\n",
       "20.0     2625\n",
       "10.0     2558\n",
       "Name: Temperature(F), Length: 153, dtype: int64"
      ]
     },
     "execution_count": 24,
     "metadata": {
      "tags": []
     },
     "output_type": "execute_result"
    }
   ],
   "source": [
    "temperature_values[:10]"
   ]
  },
  {
   "cell_type": "code",
   "execution_count": 25,
   "metadata": {
    "colab": {
     "base_uri": "https://localhost:8080/"
    },
    "executionInfo": {
     "elapsed": 79351,
     "status": "ok",
     "timestamp": 1615633325085,
     "user": {
      "displayName": "Sachin Kumar",
      "photoUrl": "",
      "userId": "14743817537594214650"
     },
     "user_tz": -330
    },
    "id": "szLnOOBoanzY",
    "outputId": "b7627308-8626-48eb-bdb4-50d5372edc46"
   },
   "outputs": [
    {
     "data": {
      "text/plain": [
       "count    4.142641e+06\n",
       "mean     6.147799e+01\n",
       "std      1.852586e+01\n",
       "min     -8.900000e+01\n",
       "25%      4.900000e+01\n",
       "50%      6.300000e+01\n",
       "75%      7.520000e+01\n",
       "max      2.030000e+02\n",
       "Name: Temperature(F), dtype: float64"
      ]
     },
     "execution_count": 25,
     "metadata": {
      "tags": []
     },
     "output_type": "execute_result"
    }
   ],
   "source": [
    "# getting numerical extracts from temperature\r\n",
    "us_acc['Temperature(F)'].describe() "
   ]
  },
  {
   "cell_type": "markdown",
   "metadata": {
    "id": "dND4qcbogtkm"
   },
   "source": [
    "75 % accidents showing below 75 F temperature "
   ]
  },
  {
   "cell_type": "code",
   "execution_count": 26,
   "metadata": {
    "colab": {
     "base_uri": "https://localhost:8080/",
     "height": 168
    },
    "executionInfo": {
     "elapsed": 79340,
     "status": "ok",
     "timestamp": 1615633325087,
     "user": {
      "displayName": "Sachin Kumar",
      "photoUrl": "",
      "userId": "14743817537594214650"
     },
     "user_tz": -330
    },
    "id": "afNnmqX4dRIL",
    "outputId": "efee9040-130a-4fa7-f795-f1d5411850b6"
   },
   "outputs": [
    {
     "data": {
      "text/html": [
       "<div>\n",
       "<style scoped>\n",
       "    .dataframe tbody tr th:only-of-type {\n",
       "        vertical-align: middle;\n",
       "    }\n",
       "\n",
       "    .dataframe tbody tr th {\n",
       "        vertical-align: top;\n",
       "    }\n",
       "\n",
       "    .dataframe thead th {\n",
       "        text-align: right;\n",
       "    }\n",
       "</style>\n",
       "<table border=\"1\" class=\"dataframe\">\n",
       "  <thead>\n",
       "    <tr style=\"text-align: right;\">\n",
       "      <th></th>\n",
       "      <th>ID</th>\n",
       "      <th>Source</th>\n",
       "      <th>TMC</th>\n",
       "      <th>Severity</th>\n",
       "      <th>Start_Time</th>\n",
       "      <th>End_Time</th>\n",
       "      <th>Start_Lat</th>\n",
       "      <th>Start_Lng</th>\n",
       "      <th>End_Lat</th>\n",
       "      <th>End_Lng</th>\n",
       "      <th>Distance(mi)</th>\n",
       "      <th>Description</th>\n",
       "      <th>Number</th>\n",
       "      <th>Street</th>\n",
       "      <th>Side</th>\n",
       "      <th>City</th>\n",
       "      <th>County</th>\n",
       "      <th>State</th>\n",
       "      <th>Zipcode</th>\n",
       "      <th>Country</th>\n",
       "      <th>Timezone</th>\n",
       "      <th>Airport_Code</th>\n",
       "      <th>Weather_Timestamp</th>\n",
       "      <th>Temperature(F)</th>\n",
       "      <th>Wind_Chill(F)</th>\n",
       "      <th>Humidity(%)</th>\n",
       "      <th>Pressure(in)</th>\n",
       "      <th>Visibility(mi)</th>\n",
       "      <th>Wind_Direction</th>\n",
       "      <th>Wind_Speed(mph)</th>\n",
       "      <th>Precipitation(in)</th>\n",
       "      <th>Weather_Condition</th>\n",
       "      <th>Amenity</th>\n",
       "      <th>Bump</th>\n",
       "      <th>Crossing</th>\n",
       "      <th>Give_Way</th>\n",
       "      <th>Junction</th>\n",
       "      <th>No_Exit</th>\n",
       "      <th>Railway</th>\n",
       "      <th>Roundabout</th>\n",
       "      <th>Station</th>\n",
       "      <th>Stop</th>\n",
       "      <th>Traffic_Calming</th>\n",
       "      <th>Traffic_Signal</th>\n",
       "      <th>Turning_Loop</th>\n",
       "      <th>Sunrise_Sunset</th>\n",
       "      <th>Civil_Twilight</th>\n",
       "      <th>Nautical_Twilight</th>\n",
       "      <th>Astronomical_Twilight</th>\n",
       "    </tr>\n",
       "  </thead>\n",
       "  <tbody>\n",
       "    <tr>\n",
       "      <th>694282</th>\n",
       "      <td>A-694311</td>\n",
       "      <td>MapQuest</td>\n",
       "      <td>201.0</td>\n",
       "      <td>3</td>\n",
       "      <td>2020-07-17 11:41:59</td>\n",
       "      <td>2020-07-17 12:26:37</td>\n",
       "      <td>32.670929</td>\n",
       "      <td>-97.062508</td>\n",
       "      <td>NaN</td>\n",
       "      <td>NaN</td>\n",
       "      <td>0.0</td>\n",
       "      <td>Main roadway closed due to accident on TX-360 ...</td>\n",
       "      <td>NaN</td>\n",
       "      <td>TX-360 N</td>\n",
       "      <td>R</td>\n",
       "      <td>Arlington</td>\n",
       "      <td>Tarrant</td>\n",
       "      <td>TX</td>\n",
       "      <td>76018</td>\n",
       "      <td>US</td>\n",
       "      <td>US/Central</td>\n",
       "      <td>KGKY</td>\n",
       "      <td>2020-07-17 11:53:00</td>\n",
       "      <td>203.0</td>\n",
       "      <td>NaN</td>\n",
       "      <td>35.0</td>\n",
       "      <td>29.4</td>\n",
       "      <td>10.0</td>\n",
       "      <td>NaN</td>\n",
       "      <td>NaN</td>\n",
       "      <td>0.0</td>\n",
       "      <td>Fair</td>\n",
       "      <td>False</td>\n",
       "      <td>False</td>\n",
       "      <td>False</td>\n",
       "      <td>False</td>\n",
       "      <td>True</td>\n",
       "      <td>False</td>\n",
       "      <td>False</td>\n",
       "      <td>False</td>\n",
       "      <td>False</td>\n",
       "      <td>False</td>\n",
       "      <td>False</td>\n",
       "      <td>False</td>\n",
       "      <td>False</td>\n",
       "      <td>Day</td>\n",
       "      <td>Day</td>\n",
       "      <td>Day</td>\n",
       "      <td>Day</td>\n",
       "    </tr>\n",
       "  </tbody>\n",
       "</table>\n",
       "</div>"
      ],
      "text/plain": [
       "              ID    Source  ...  Nautical_Twilight  Astronomical_Twilight\n",
       "694282  A-694311  MapQuest  ...                Day                    Day\n",
       "\n",
       "[1 rows x 49 columns]"
      ]
     },
     "execution_count": 26,
     "metadata": {
      "tags": []
     },
     "output_type": "execute_result"
    }
   ],
   "source": [
    "max_temp = us_acc['Temperature(F)'].max()\r\n",
    "us_acc[us_acc['Temperature(F)'] == max_temp]"
   ]
  },
  {
   "cell_type": "code",
   "execution_count": 27,
   "metadata": {
    "colab": {
     "base_uri": "https://localhost:8080/",
     "height": 1000
    },
    "executionInfo": {
     "elapsed": 79822,
     "status": "ok",
     "timestamp": 1615633325583,
     "user": {
      "displayName": "Sachin Kumar",
      "photoUrl": "",
      "userId": "14743817537594214650"
     },
     "user_tz": -330
    },
    "id": "QHif1BoTgApL",
    "outputId": "c8866cc9-7194-46f4-e9ea-73593066f82e"
   },
   "outputs": [
    {
     "data": {
      "text/html": [
       "<div>\n",
       "<style scoped>\n",
       "    .dataframe tbody tr th:only-of-type {\n",
       "        vertical-align: middle;\n",
       "    }\n",
       "\n",
       "    .dataframe tbody tr th {\n",
       "        vertical-align: top;\n",
       "    }\n",
       "\n",
       "    .dataframe thead th {\n",
       "        text-align: right;\n",
       "    }\n",
       "</style>\n",
       "<table border=\"1\" class=\"dataframe\">\n",
       "  <thead>\n",
       "    <tr style=\"text-align: right;\">\n",
       "      <th></th>\n",
       "      <th>ID</th>\n",
       "      <th>Source</th>\n",
       "      <th>TMC</th>\n",
       "      <th>Severity</th>\n",
       "      <th>Start_Time</th>\n",
       "      <th>End_Time</th>\n",
       "      <th>Start_Lat</th>\n",
       "      <th>Start_Lng</th>\n",
       "      <th>End_Lat</th>\n",
       "      <th>End_Lng</th>\n",
       "      <th>Distance(mi)</th>\n",
       "      <th>Description</th>\n",
       "      <th>Number</th>\n",
       "      <th>Street</th>\n",
       "      <th>Side</th>\n",
       "      <th>City</th>\n",
       "      <th>County</th>\n",
       "      <th>State</th>\n",
       "      <th>Zipcode</th>\n",
       "      <th>Country</th>\n",
       "      <th>Timezone</th>\n",
       "      <th>Airport_Code</th>\n",
       "      <th>Weather_Timestamp</th>\n",
       "      <th>Temperature(F)</th>\n",
       "      <th>Wind_Chill(F)</th>\n",
       "      <th>Humidity(%)</th>\n",
       "      <th>Pressure(in)</th>\n",
       "      <th>Visibility(mi)</th>\n",
       "      <th>Wind_Direction</th>\n",
       "      <th>Wind_Speed(mph)</th>\n",
       "      <th>Precipitation(in)</th>\n",
       "      <th>Weather_Condition</th>\n",
       "      <th>Amenity</th>\n",
       "      <th>Bump</th>\n",
       "      <th>Crossing</th>\n",
       "      <th>Give_Way</th>\n",
       "      <th>Junction</th>\n",
       "      <th>No_Exit</th>\n",
       "      <th>Railway</th>\n",
       "      <th>Roundabout</th>\n",
       "      <th>Station</th>\n",
       "      <th>Stop</th>\n",
       "      <th>Traffic_Calming</th>\n",
       "      <th>Traffic_Signal</th>\n",
       "      <th>Turning_Loop</th>\n",
       "      <th>Sunrise_Sunset</th>\n",
       "      <th>Civil_Twilight</th>\n",
       "      <th>Nautical_Twilight</th>\n",
       "      <th>Astronomical_Twilight</th>\n",
       "    </tr>\n",
       "  </thead>\n",
       "  <tbody>\n",
       "    <tr>\n",
       "      <th>849453</th>\n",
       "      <td>A-849533</td>\n",
       "      <td>MapQuest</td>\n",
       "      <td>343.0</td>\n",
       "      <td>3</td>\n",
       "      <td>2020-04-03 07:37:17</td>\n",
       "      <td>2020-04-03 08:10:00</td>\n",
       "      <td>39.779041</td>\n",
       "      <td>-104.990044</td>\n",
       "      <td>NaN</td>\n",
       "      <td>NaN</td>\n",
       "      <td>0.43</td>\n",
       "      <td>Earlier accident on exit ramp from I-70 Eastbo...</td>\n",
       "      <td>NaN</td>\n",
       "      <td>I-25 S</td>\n",
       "      <td>R</td>\n",
       "      <td>Denver</td>\n",
       "      <td>Denver</td>\n",
       "      <td>CO</td>\n",
       "      <td>80216</td>\n",
       "      <td>US</td>\n",
       "      <td>US/Mountain</td>\n",
       "      <td>KBJC</td>\n",
       "      <td>2020-04-03 07:47:00</td>\n",
       "      <td>-89.0</td>\n",
       "      <td>-89.0</td>\n",
       "      <td>NaN</td>\n",
       "      <td>24.47</td>\n",
       "      <td>5.0</td>\n",
       "      <td>CALM</td>\n",
       "      <td>0.0</td>\n",
       "      <td>0.0</td>\n",
       "      <td>Cloudy</td>\n",
       "      <td>False</td>\n",
       "      <td>False</td>\n",
       "      <td>False</td>\n",
       "      <td>False</td>\n",
       "      <td>False</td>\n",
       "      <td>False</td>\n",
       "      <td>False</td>\n",
       "      <td>False</td>\n",
       "      <td>False</td>\n",
       "      <td>False</td>\n",
       "      <td>False</td>\n",
       "      <td>False</td>\n",
       "      <td>False</td>\n",
       "      <td>Day</td>\n",
       "      <td>Day</td>\n",
       "      <td>Day</td>\n",
       "      <td>Day</td>\n",
       "    </tr>\n",
       "    <tr>\n",
       "      <th>849455</th>\n",
       "      <td>A-849535</td>\n",
       "      <td>MapQuest</td>\n",
       "      <td>343.0</td>\n",
       "      <td>3</td>\n",
       "      <td>2020-04-03 07:44:19</td>\n",
       "      <td>2020-04-03 08:34:00</td>\n",
       "      <td>39.778301</td>\n",
       "      <td>-104.899284</td>\n",
       "      <td>NaN</td>\n",
       "      <td>NaN</td>\n",
       "      <td>0.00</td>\n",
       "      <td>Slow traffic due to earlier accident on I-70 E...</td>\n",
       "      <td>NaN</td>\n",
       "      <td>I-70 E</td>\n",
       "      <td>R</td>\n",
       "      <td>Denver</td>\n",
       "      <td>Denver</td>\n",
       "      <td>CO</td>\n",
       "      <td>80216</td>\n",
       "      <td>US</td>\n",
       "      <td>US/Mountain</td>\n",
       "      <td>KBJC</td>\n",
       "      <td>2020-04-03 07:47:00</td>\n",
       "      <td>-89.0</td>\n",
       "      <td>-89.0</td>\n",
       "      <td>NaN</td>\n",
       "      <td>24.47</td>\n",
       "      <td>5.0</td>\n",
       "      <td>CALM</td>\n",
       "      <td>0.0</td>\n",
       "      <td>0.0</td>\n",
       "      <td>Cloudy</td>\n",
       "      <td>False</td>\n",
       "      <td>False</td>\n",
       "      <td>False</td>\n",
       "      <td>False</td>\n",
       "      <td>False</td>\n",
       "      <td>False</td>\n",
       "      <td>False</td>\n",
       "      <td>False</td>\n",
       "      <td>False</td>\n",
       "      <td>False</td>\n",
       "      <td>False</td>\n",
       "      <td>False</td>\n",
       "      <td>False</td>\n",
       "      <td>Day</td>\n",
       "      <td>Day</td>\n",
       "      <td>Day</td>\n",
       "      <td>Day</td>\n",
       "    </tr>\n",
       "    <tr>\n",
       "      <th>849457</th>\n",
       "      <td>A-849537</td>\n",
       "      <td>MapQuest-Bing</td>\n",
       "      <td>201.0</td>\n",
       "      <td>2</td>\n",
       "      <td>2020-04-03 07:50:12</td>\n",
       "      <td>2020-04-03 09:36:00</td>\n",
       "      <td>39.741428</td>\n",
       "      <td>-104.998894</td>\n",
       "      <td>NaN</td>\n",
       "      <td>NaN</td>\n",
       "      <td>0.00</td>\n",
       "      <td>Accident on Stout St at Speer Blvd. No recent ...</td>\n",
       "      <td>1543.0</td>\n",
       "      <td>Speer Blvd</td>\n",
       "      <td>R</td>\n",
       "      <td>Denver</td>\n",
       "      <td>Denver</td>\n",
       "      <td>CO</td>\n",
       "      <td>80204</td>\n",
       "      <td>US</td>\n",
       "      <td>US/Mountain</td>\n",
       "      <td>KBJC</td>\n",
       "      <td>2020-04-03 07:47:00</td>\n",
       "      <td>-89.0</td>\n",
       "      <td>-89.0</td>\n",
       "      <td>NaN</td>\n",
       "      <td>24.47</td>\n",
       "      <td>5.0</td>\n",
       "      <td>CALM</td>\n",
       "      <td>0.0</td>\n",
       "      <td>0.0</td>\n",
       "      <td>Cloudy</td>\n",
       "      <td>False</td>\n",
       "      <td>False</td>\n",
       "      <td>True</td>\n",
       "      <td>False</td>\n",
       "      <td>False</td>\n",
       "      <td>False</td>\n",
       "      <td>True</td>\n",
       "      <td>False</td>\n",
       "      <td>False</td>\n",
       "      <td>False</td>\n",
       "      <td>False</td>\n",
       "      <td>True</td>\n",
       "      <td>False</td>\n",
       "      <td>Day</td>\n",
       "      <td>Day</td>\n",
       "      <td>Day</td>\n",
       "      <td>Day</td>\n",
       "    </tr>\n",
       "    <tr>\n",
       "      <th>849459</th>\n",
       "      <td>A-849539</td>\n",
       "      <td>MapQuest</td>\n",
       "      <td>201.0</td>\n",
       "      <td>2</td>\n",
       "      <td>2020-04-03 07:58:54</td>\n",
       "      <td>2020-04-03 09:00:00</td>\n",
       "      <td>39.725639</td>\n",
       "      <td>-105.081718</td>\n",
       "      <td>NaN</td>\n",
       "      <td>NaN</td>\n",
       "      <td>0.00</td>\n",
       "      <td>Accident on CO-121 Wadsworth Blvd Northbound a...</td>\n",
       "      <td>NaN</td>\n",
       "      <td>US-6 W</td>\n",
       "      <td>R</td>\n",
       "      <td>Denver</td>\n",
       "      <td>Jefferson</td>\n",
       "      <td>CO</td>\n",
       "      <td>80214</td>\n",
       "      <td>US</td>\n",
       "      <td>US/Mountain</td>\n",
       "      <td>KBJC</td>\n",
       "      <td>2020-04-03 07:47:00</td>\n",
       "      <td>-89.0</td>\n",
       "      <td>-89.0</td>\n",
       "      <td>NaN</td>\n",
       "      <td>24.47</td>\n",
       "      <td>5.0</td>\n",
       "      <td>CALM</td>\n",
       "      <td>0.0</td>\n",
       "      <td>0.0</td>\n",
       "      <td>Cloudy</td>\n",
       "      <td>False</td>\n",
       "      <td>False</td>\n",
       "      <td>False</td>\n",
       "      <td>False</td>\n",
       "      <td>True</td>\n",
       "      <td>False</td>\n",
       "      <td>False</td>\n",
       "      <td>False</td>\n",
       "      <td>False</td>\n",
       "      <td>False</td>\n",
       "      <td>False</td>\n",
       "      <td>False</td>\n",
       "      <td>False</td>\n",
       "      <td>Day</td>\n",
       "      <td>Day</td>\n",
       "      <td>Day</td>\n",
       "      <td>Day</td>\n",
       "    </tr>\n",
       "    <tr>\n",
       "      <th>849460</th>\n",
       "      <td>A-849540</td>\n",
       "      <td>MapQuest</td>\n",
       "      <td>201.0</td>\n",
       "      <td>2</td>\n",
       "      <td>2020-04-03 07:59:49</td>\n",
       "      <td>2020-04-03 09:01:00</td>\n",
       "      <td>39.785191</td>\n",
       "      <td>-105.081772</td>\n",
       "      <td>NaN</td>\n",
       "      <td>NaN</td>\n",
       "      <td>0.53</td>\n",
       "      <td>Accident on entry ramp to I-70 Eastbound from ...</td>\n",
       "      <td>NaN</td>\n",
       "      <td>Wadsworth Blvd</td>\n",
       "      <td>R</td>\n",
       "      <td>Wheat Ridge</td>\n",
       "      <td>Jefferson</td>\n",
       "      <td>CO</td>\n",
       "      <td>80033</td>\n",
       "      <td>US</td>\n",
       "      <td>US/Mountain</td>\n",
       "      <td>KBJC</td>\n",
       "      <td>2020-04-03 07:47:00</td>\n",
       "      <td>-89.0</td>\n",
       "      <td>-89.0</td>\n",
       "      <td>NaN</td>\n",
       "      <td>24.47</td>\n",
       "      <td>5.0</td>\n",
       "      <td>CALM</td>\n",
       "      <td>0.0</td>\n",
       "      <td>0.0</td>\n",
       "      <td>Cloudy</td>\n",
       "      <td>False</td>\n",
       "      <td>False</td>\n",
       "      <td>False</td>\n",
       "      <td>False</td>\n",
       "      <td>False</td>\n",
       "      <td>False</td>\n",
       "      <td>False</td>\n",
       "      <td>False</td>\n",
       "      <td>False</td>\n",
       "      <td>False</td>\n",
       "      <td>False</td>\n",
       "      <td>False</td>\n",
       "      <td>False</td>\n",
       "      <td>Day</td>\n",
       "      <td>Day</td>\n",
       "      <td>Day</td>\n",
       "      <td>Day</td>\n",
       "    </tr>\n",
       "    <tr>\n",
       "      <th>849462</th>\n",
       "      <td>A-849542</td>\n",
       "      <td>MapQuest</td>\n",
       "      <td>201.0</td>\n",
       "      <td>3</td>\n",
       "      <td>2020-04-03 08:05:15</td>\n",
       "      <td>2020-04-03 08:51:00</td>\n",
       "      <td>39.767784</td>\n",
       "      <td>-104.995468</td>\n",
       "      <td>NaN</td>\n",
       "      <td>NaN</td>\n",
       "      <td>0.00</td>\n",
       "      <td>Left lane blocked due to accident on I-25 Nort...</td>\n",
       "      <td>NaN</td>\n",
       "      <td>I-25 N</td>\n",
       "      <td>R</td>\n",
       "      <td>Denver</td>\n",
       "      <td>Denver</td>\n",
       "      <td>CO</td>\n",
       "      <td>80216</td>\n",
       "      <td>US</td>\n",
       "      <td>US/Mountain</td>\n",
       "      <td>KBJC</td>\n",
       "      <td>2020-04-03 07:47:00</td>\n",
       "      <td>-89.0</td>\n",
       "      <td>-89.0</td>\n",
       "      <td>NaN</td>\n",
       "      <td>24.47</td>\n",
       "      <td>5.0</td>\n",
       "      <td>CALM</td>\n",
       "      <td>0.0</td>\n",
       "      <td>0.0</td>\n",
       "      <td>Cloudy</td>\n",
       "      <td>False</td>\n",
       "      <td>False</td>\n",
       "      <td>False</td>\n",
       "      <td>False</td>\n",
       "      <td>True</td>\n",
       "      <td>False</td>\n",
       "      <td>False</td>\n",
       "      <td>False</td>\n",
       "      <td>False</td>\n",
       "      <td>False</td>\n",
       "      <td>False</td>\n",
       "      <td>False</td>\n",
       "      <td>False</td>\n",
       "      <td>Day</td>\n",
       "      <td>Day</td>\n",
       "      <td>Day</td>\n",
       "      <td>Day</td>\n",
       "    </tr>\n",
       "    <tr>\n",
       "      <th>849463</th>\n",
       "      <td>A-849543</td>\n",
       "      <td>MapQuest</td>\n",
       "      <td>201.0</td>\n",
       "      <td>2</td>\n",
       "      <td>2020-04-03 08:10:07</td>\n",
       "      <td>2020-04-03 09:11:00</td>\n",
       "      <td>39.779591</td>\n",
       "      <td>-104.988220</td>\n",
       "      <td>NaN</td>\n",
       "      <td>NaN</td>\n",
       "      <td>0.43</td>\n",
       "      <td>Exit ramp from I-25 Northbound at Exits 213 21...</td>\n",
       "      <td>NaN</td>\n",
       "      <td>I-70 E</td>\n",
       "      <td>R</td>\n",
       "      <td>Denver</td>\n",
       "      <td>Denver</td>\n",
       "      <td>CO</td>\n",
       "      <td>80216</td>\n",
       "      <td>US</td>\n",
       "      <td>US/Mountain</td>\n",
       "      <td>KBJC</td>\n",
       "      <td>2020-04-03 07:47:00</td>\n",
       "      <td>-89.0</td>\n",
       "      <td>-89.0</td>\n",
       "      <td>NaN</td>\n",
       "      <td>24.47</td>\n",
       "      <td>5.0</td>\n",
       "      <td>CALM</td>\n",
       "      <td>0.0</td>\n",
       "      <td>0.0</td>\n",
       "      <td>Cloudy</td>\n",
       "      <td>False</td>\n",
       "      <td>False</td>\n",
       "      <td>False</td>\n",
       "      <td>False</td>\n",
       "      <td>False</td>\n",
       "      <td>False</td>\n",
       "      <td>False</td>\n",
       "      <td>False</td>\n",
       "      <td>False</td>\n",
       "      <td>False</td>\n",
       "      <td>False</td>\n",
       "      <td>False</td>\n",
       "      <td>False</td>\n",
       "      <td>Day</td>\n",
       "      <td>Day</td>\n",
       "      <td>Day</td>\n",
       "      <td>Day</td>\n",
       "    </tr>\n",
       "    <tr>\n",
       "      <th>849464</th>\n",
       "      <td>A-849544</td>\n",
       "      <td>MapQuest</td>\n",
       "      <td>201.0</td>\n",
       "      <td>2</td>\n",
       "      <td>2020-04-03 08:15:53</td>\n",
       "      <td>2020-04-03 09:17:00</td>\n",
       "      <td>39.733109</td>\n",
       "      <td>-105.053238</td>\n",
       "      <td>NaN</td>\n",
       "      <td>NaN</td>\n",
       "      <td>0.00</td>\n",
       "      <td>Accident on 10th Ave at CO-95 Sheridan Blvd. N...</td>\n",
       "      <td>5224.0</td>\n",
       "      <td>W 10th Ave</td>\n",
       "      <td>L</td>\n",
       "      <td>Lakewood</td>\n",
       "      <td>Jefferson</td>\n",
       "      <td>CO</td>\n",
       "      <td>80214-2524</td>\n",
       "      <td>US</td>\n",
       "      <td>US/Mountain</td>\n",
       "      <td>KBJC</td>\n",
       "      <td>2020-04-03 07:47:00</td>\n",
       "      <td>-89.0</td>\n",
       "      <td>-89.0</td>\n",
       "      <td>NaN</td>\n",
       "      <td>24.47</td>\n",
       "      <td>5.0</td>\n",
       "      <td>CALM</td>\n",
       "      <td>0.0</td>\n",
       "      <td>0.0</td>\n",
       "      <td>Cloudy</td>\n",
       "      <td>True</td>\n",
       "      <td>False</td>\n",
       "      <td>True</td>\n",
       "      <td>False</td>\n",
       "      <td>False</td>\n",
       "      <td>False</td>\n",
       "      <td>False</td>\n",
       "      <td>False</td>\n",
       "      <td>False</td>\n",
       "      <td>False</td>\n",
       "      <td>False</td>\n",
       "      <td>True</td>\n",
       "      <td>False</td>\n",
       "      <td>Day</td>\n",
       "      <td>Day</td>\n",
       "      <td>Day</td>\n",
       "      <td>Day</td>\n",
       "    </tr>\n",
       "    <tr>\n",
       "      <th>3610682</th>\n",
       "      <td>A-3617506</td>\n",
       "      <td>Bing</td>\n",
       "      <td>NaN</td>\n",
       "      <td>2</td>\n",
       "      <td>2020-04-03 07:23:13</td>\n",
       "      <td>2020-04-03 08:43:11</td>\n",
       "      <td>39.729290</td>\n",
       "      <td>-105.025200</td>\n",
       "      <td>39.72929</td>\n",
       "      <td>-105.02520</td>\n",
       "      <td>0.00</td>\n",
       "      <td>At Lowell Blvd - Accident.</td>\n",
       "      <td>3001.0</td>\n",
       "      <td>W 6th Ave</td>\n",
       "      <td>L</td>\n",
       "      <td>Denver</td>\n",
       "      <td>Denver</td>\n",
       "      <td>CO</td>\n",
       "      <td>80204</td>\n",
       "      <td>US</td>\n",
       "      <td>US/Mountain</td>\n",
       "      <td>KBJC</td>\n",
       "      <td>2020-04-03 07:47:00</td>\n",
       "      <td>-89.0</td>\n",
       "      <td>-89.0</td>\n",
       "      <td>NaN</td>\n",
       "      <td>24.47</td>\n",
       "      <td>5.0</td>\n",
       "      <td>CALM</td>\n",
       "      <td>0.0</td>\n",
       "      <td>0.0</td>\n",
       "      <td>Cloudy</td>\n",
       "      <td>False</td>\n",
       "      <td>False</td>\n",
       "      <td>True</td>\n",
       "      <td>False</td>\n",
       "      <td>False</td>\n",
       "      <td>True</td>\n",
       "      <td>False</td>\n",
       "      <td>False</td>\n",
       "      <td>False</td>\n",
       "      <td>False</td>\n",
       "      <td>False</td>\n",
       "      <td>True</td>\n",
       "      <td>False</td>\n",
       "      <td>Day</td>\n",
       "      <td>Day</td>\n",
       "      <td>Day</td>\n",
       "      <td>Day</td>\n",
       "    </tr>\n",
       "    <tr>\n",
       "      <th>3610688</th>\n",
       "      <td>A-3617512</td>\n",
       "      <td>Bing</td>\n",
       "      <td>NaN</td>\n",
       "      <td>3</td>\n",
       "      <td>2020-04-03 07:56:58</td>\n",
       "      <td>2020-04-03 08:56:58</td>\n",
       "      <td>39.778300</td>\n",
       "      <td>-104.906070</td>\n",
       "      <td>39.77830</td>\n",
       "      <td>-104.90607</td>\n",
       "      <td>0.00</td>\n",
       "      <td>At Quebec St/Exit 278 - Accident. Two lanes bl...</td>\n",
       "      <td>NaN</td>\n",
       "      <td>I-70 W</td>\n",
       "      <td>R</td>\n",
       "      <td>Denver</td>\n",
       "      <td>Denver</td>\n",
       "      <td>CO</td>\n",
       "      <td>80216</td>\n",
       "      <td>US</td>\n",
       "      <td>US/Mountain</td>\n",
       "      <td>KBJC</td>\n",
       "      <td>2020-04-03 07:47:00</td>\n",
       "      <td>-89.0</td>\n",
       "      <td>-89.0</td>\n",
       "      <td>NaN</td>\n",
       "      <td>24.47</td>\n",
       "      <td>5.0</td>\n",
       "      <td>CALM</td>\n",
       "      <td>0.0</td>\n",
       "      <td>0.0</td>\n",
       "      <td>Cloudy</td>\n",
       "      <td>False</td>\n",
       "      <td>False</td>\n",
       "      <td>False</td>\n",
       "      <td>False</td>\n",
       "      <td>False</td>\n",
       "      <td>False</td>\n",
       "      <td>False</td>\n",
       "      <td>False</td>\n",
       "      <td>False</td>\n",
       "      <td>False</td>\n",
       "      <td>False</td>\n",
       "      <td>False</td>\n",
       "      <td>False</td>\n",
       "      <td>Day</td>\n",
       "      <td>Day</td>\n",
       "      <td>Day</td>\n",
       "      <td>Day</td>\n",
       "    </tr>\n",
       "  </tbody>\n",
       "</table>\n",
       "</div>"
      ],
      "text/plain": [
       "                ID         Source  ...  Nautical_Twilight  Astronomical_Twilight\n",
       "849453    A-849533       MapQuest  ...                Day                    Day\n",
       "849455    A-849535       MapQuest  ...                Day                    Day\n",
       "849457    A-849537  MapQuest-Bing  ...                Day                    Day\n",
       "849459    A-849539       MapQuest  ...                Day                    Day\n",
       "849460    A-849540       MapQuest  ...                Day                    Day\n",
       "849462    A-849542       MapQuest  ...                Day                    Day\n",
       "849463    A-849543       MapQuest  ...                Day                    Day\n",
       "849464    A-849544       MapQuest  ...                Day                    Day\n",
       "3610682  A-3617506           Bing  ...                Day                    Day\n",
       "3610688  A-3617512           Bing  ...                Day                    Day\n",
       "\n",
       "[10 rows x 49 columns]"
      ]
     },
     "execution_count": 27,
     "metadata": {
      "tags": []
     },
     "output_type": "execute_result"
    }
   ],
   "source": [
    "min_temp = us_acc['Temperature(F)'].min()\r\n",
    "us_acc[us_acc['Temperature(F)'] == min_temp]"
   ]
  },
  {
   "cell_type": "markdown",
   "metadata": {
    "id": "hMyrG0yihtj8"
   },
   "source": [
    "#### Start Time"
   ]
  },
  {
   "cell_type": "code",
   "execution_count": 28,
   "metadata": {
    "colab": {
     "base_uri": "https://localhost:8080/"
    },
    "executionInfo": {
     "elapsed": 79813,
     "status": "ok",
     "timestamp": 1615633325587,
     "user": {
      "displayName": "Sachin Kumar",
      "photoUrl": "",
      "userId": "14743817537594214650"
     },
     "user_tz": -330
    },
    "id": "Rj55mhFHhxmL",
    "outputId": "5ceb2683-8fe3-48ba-8626-c4d7486a3d2d"
   },
   "outputs": [
    {
     "data": {
      "text/plain": [
       "str"
      ]
     },
     "execution_count": 28,
     "metadata": {
      "tags": []
     },
     "output_type": "execute_result"
    }
   ],
   "source": [
    "type(us_acc['Start_Time'][0])"
   ]
  },
  {
   "cell_type": "code",
   "execution_count": 29,
   "metadata": {
    "executionInfo": {
     "elapsed": 81531,
     "status": "ok",
     "timestamp": 1615633327309,
     "user": {
      "displayName": "Sachin Kumar",
      "photoUrl": "",
      "userId": "14743817537594214650"
     },
     "user_tz": -330
    },
    "id": "kSMlXGq1hxj8"
   },
   "outputs": [],
   "source": [
    "us_acc['Start_Time'] = pd.to_datetime(us_acc['Start_Time'])"
   ]
  },
  {
   "cell_type": "code",
   "execution_count": 30,
   "metadata": {
    "colab": {
     "base_uri": "https://localhost:8080/"
    },
    "executionInfo": {
     "elapsed": 81527,
     "status": "ok",
     "timestamp": 1615633327316,
     "user": {
      "displayName": "Sachin Kumar",
      "photoUrl": "",
      "userId": "14743817537594214650"
     },
     "user_tz": -330
    },
    "id": "V7KY16Amhxhc",
    "outputId": "937fa90d-a34f-424f-e5f9-6d253ae72370"
   },
   "outputs": [
    {
     "data": {
      "text/plain": [
       "pandas._libs.tslibs.timestamps.Timestamp"
      ]
     },
     "execution_count": 30,
     "metadata": {
      "tags": []
     },
     "output_type": "execute_result"
    }
   ],
   "source": [
    "type(us_acc['Start_Time'][0])"
   ]
  },
  {
   "cell_type": "code",
   "execution_count": 31,
   "metadata": {
    "colab": {
     "base_uri": "https://localhost:8080/",
     "height": 351
    },
    "executionInfo": {
     "elapsed": 82262,
     "status": "ok",
     "timestamp": 1615633328065,
     "user": {
      "displayName": "Sachin Kumar",
      "photoUrl": "",
      "userId": "14743817537594214650"
     },
     "user_tz": -330
    },
    "id": "Obm1Uc2bhxfJ",
    "outputId": "e2d5d6f5-59c5-4888-e696-3448d90ba11d"
   },
   "outputs": [
    {
     "name": "stderr",
     "output_type": "stream",
     "text": [
      "/usr/local/lib/python3.7/dist-packages/seaborn/distributions.py:2557: FutureWarning: `distplot` is a deprecated function and will be removed in a future version. Please adapt your code to use either `displot` (a figure-level function with similar flexibility) or `histplot` (an axes-level function for histograms).\n",
      "  warnings.warn(msg, FutureWarning)\n"
     ]
    },
    {
     "data": {
      "text/plain": [
       "<matplotlib.axes._subplots.AxesSubplot at 0x7f48fc84aad0>"
      ]
     },
     "execution_count": 31,
     "metadata": {
      "tags": []
     },
     "output_type": "execute_result"
    },
    {
     "data": {
      "image/png": "[encoded data removed]",
      "text/plain": [
       "<Figure size 432x288 with 1 Axes>"
      ]
     },
     "metadata": {
      "tags": []
     },
     "output_type": "display_data"
    }
   ],
   "source": [
    "# get graph for accidents at what time of day\r\n",
    "sns.set_style('darkgrid')\r\n",
    "sns.distplot(us_acc['Start_Time'].dt.hour, bins=24, kde=False, norm_hist=True) "
   ]
  },
  {
   "cell_type": "markdown",
   "metadata": {
    "id": "gj88raRP8kDU"
   },
   "source": [
    "Most accidents seems to be between 8AM to 10AM, then 3PM to 6PM"
   ]
  },
  {
   "cell_type": "code",
   "execution_count": 32,
   "metadata": {
    "colab": {
     "base_uri": "https://localhost:8080/",
     "height": 351
    },
    "executionInfo": {
     "elapsed": 83276,
     "status": "ok",
     "timestamp": 1615633329093,
     "user": {
      "displayName": "Sachin Kumar",
      "photoUrl": "",
      "userId": "14743817537594214650"
     },
     "user_tz": -330
    },
    "id": "zZGx7IGDhxcg",
    "outputId": "134911fc-a1b4-4d0d-9ed8-4d2975c7f7b6"
   },
   "outputs": [
    {
     "name": "stderr",
     "output_type": "stream",
     "text": [
      "/usr/local/lib/python3.7/dist-packages/seaborn/distributions.py:2557: FutureWarning: `distplot` is a deprecated function and will be removed in a future version. Please adapt your code to use either `displot` (a figure-level function with similar flexibility) or `histplot` (an axes-level function for histograms).\n",
      "  warnings.warn(msg, FutureWarning)\n"
     ]
    },
    {
     "data": {
      "text/plain": [
       "<matplotlib.axes._subplots.AxesSubplot at 0x7f48fc811b90>"
      ]
     },
     "execution_count": 32,
     "metadata": {
      "tags": []
     },
     "output_type": "execute_result"
    },
    {
     "data": {
      "image/png": "[encoded data removed]",
      "text/plain": [
       "<Figure size 432x288 with 1 Axes>"
      ]
     },
     "metadata": {
      "tags": []
     },
     "output_type": "display_data"
    }
   ],
   "source": [
    "# get graph for accidents on week of the day\r\n",
    "sns.distplot(us_acc['Start_Time'].dt.weekday, bins=7, kde=False, norm_hist=True)"
   ]
  },
  {
   "cell_type": "markdown",
   "metadata": {
    "id": "3QDCAWBm-BTo"
   },
   "source": [
    "Seems less accidents on weekend"
   ]
  },
  {
   "cell_type": "code",
   "execution_count": 33,
   "metadata": {
    "colab": {
     "base_uri": "https://localhost:8080/",
     "height": 351
    },
    "executionInfo": {
     "elapsed": 84523,
     "status": "ok",
     "timestamp": 1615633330356,
     "user": {
      "displayName": "Sachin Kumar",
      "photoUrl": "",
      "userId": "14743817537594214650"
     },
     "user_tz": -330
    },
    "id": "6JBX4T2l95k7",
    "outputId": "f908a237-ef46-405a-cf39-49dc6aa1d738"
   },
   "outputs": [
    {
     "name": "stderr",
     "output_type": "stream",
     "text": [
      "/usr/local/lib/python3.7/dist-packages/seaborn/distributions.py:2557: FutureWarning: `distplot` is a deprecated function and will be removed in a future version. Please adapt your code to use either `displot` (a figure-level function with similar flexibility) or `histplot` (an axes-level function for histograms).\n",
      "  warnings.warn(msg, FutureWarning)\n"
     ]
    },
    {
     "data": {
      "text/plain": [
       "<matplotlib.axes._subplots.AxesSubplot at 0x7f48fc7d6910>"
      ]
     },
     "execution_count": 33,
     "metadata": {
      "tags": []
     },
     "output_type": "execute_result"
    },
    {
     "data": {
      "image/png": "[encoded data removed]",
      "text/plain": [
       "<Figure size 432x288 with 1 Axes>"
      ]
     },
     "metadata": {
      "tags": []
     },
     "output_type": "display_data"
    }
   ],
   "source": [
    "# Check day time of accidents on weekdays comparitively to weekend\r\n",
    "monday_data = us_acc[us_acc['Start_Time'].dt.dayofweek == 1 ]\r\n",
    "sns.distplot(monday_data['Start_Time'].dt.hour, bins=24, kde=False, norm_hist=True) "
   ]
  },
  {
   "cell_type": "code",
   "execution_count": 34,
   "metadata": {
    "colab": {
     "base_uri": "https://localhost:8080/",
     "height": 351
    },
    "executionInfo": {
     "elapsed": 85843,
     "status": "ok",
     "timestamp": 1615633331691,
     "user": {
      "displayName": "Sachin Kumar",
      "photoUrl": "",
      "userId": "14743817537594214650"
     },
     "user_tz": -330
    },
    "id": "4o_zy_Y995WW",
    "outputId": "6ae402d5-a7f8-4894-ac1e-38c8a5ecc3f4"
   },
   "outputs": [
    {
     "name": "stderr",
     "output_type": "stream",
     "text": [
      "/usr/local/lib/python3.7/dist-packages/seaborn/distributions.py:2557: FutureWarning: `distplot` is a deprecated function and will be removed in a future version. Please adapt your code to use either `displot` (a figure-level function with similar flexibility) or `histplot` (an axes-level function for histograms).\n",
      "  warnings.warn(msg, FutureWarning)\n"
     ]
    },
    {
     "data": {
      "text/plain": [
       "<matplotlib.axes._subplots.AxesSubplot at 0x7f48fc78cc10>"
      ]
     },
     "execution_count": 34,
     "metadata": {
      "tags": []
     },
     "output_type": "execute_result"
    },
    {
     "data": {
      "image/png": "[encoded data removed]",
      "text/plain": [
       "<Figure size 432x288 with 1 Axes>"
      ]
     },
     "metadata": {
      "tags": []
     },
     "output_type": "display_data"
    }
   ],
   "source": [
    "monday_data = us_acc[us_acc['Start_Time'].dt.dayofweek == 1 ]\r\n",
    "sns.distplot(monday_data['Start_Time'].dt.hour, bins=24, kde=False, norm_hist=True) "
   ]
  },
  {
   "cell_type": "markdown",
   "metadata": {
    "id": "HWpu4jC8_b8O"
   },
   "source": [
    "Change in time of accidents on weekdays and weekend"
   ]
  },
  {
   "cell_type": "markdown",
   "metadata": {
    "id": "DZ7HdkElA3lf"
   },
   "source": [
    "#### Severity"
   ]
  },
  {
   "cell_type": "code",
   "execution_count": 35,
   "metadata": {
    "colab": {
     "base_uri": "https://localhost:8080/",
     "height": 290
    },
    "executionInfo": {
     "elapsed": 85832,
     "status": "ok",
     "timestamp": 1615633331694,
     "user": {
      "displayName": "Sachin Kumar",
      "photoUrl": "",
      "userId": "14743817537594214650"
     },
     "user_tz": -330
    },
    "id": "z6i7Uqj7A8EH",
    "outputId": "1572590f-2f9d-49c6-d179-476348aa2e78"
   },
   "outputs": [
    {
     "data": {
      "text/plain": [
       "<matplotlib.axes._subplots.AxesSubplot at 0x7f48fc6ea050>"
      ]
     },
     "execution_count": 35,
     "metadata": {
      "tags": []
     },
     "output_type": "execute_result"
    },
    {
     "data": {
      "image/png": "[encoded data removed]",
      "text/plain": [
       "<Figure size 432x288 with 1 Axes>"
      ]
     },
     "metadata": {
      "tags": []
     },
     "output_type": "display_data"
    }
   ],
   "source": [
    "# How severe were accidents\r\n",
    "severity_types = us_acc['Severity'].value_counts()\r\n",
    "severity_types.plot(kind='bar')"
   ]
  },
  {
   "cell_type": "markdown",
   "metadata": {
    "id": "d1S3VVDx_m4L"
   },
   "source": [
    "#### Other Factors"
   ]
  },
  {
   "cell_type": "code",
   "execution_count": 36,
   "metadata": {
    "colab": {
     "base_uri": "https://localhost:8080/"
    },
    "executionInfo": {
     "elapsed": 85823,
     "status": "ok",
     "timestamp": 1615633331696,
     "user": {
      "displayName": "Sachin Kumar",
      "photoUrl": "",
      "userId": "14743817537594214650"
     },
     "user_tz": -330
    },
    "id": "zUcjEqMIEeDX",
    "outputId": "072b8425-f07a-42b0-a55b-c74b004efa5a"
   },
   "outputs": [
    {
     "data": {
      "text/plain": [
       "Index(['ID', 'Source', 'TMC', 'Severity', 'Start_Time', 'End_Time',\n",
       "       'Start_Lat', 'Start_Lng', 'End_Lat', 'End_Lng', 'Distance(mi)',\n",
       "       'Description', 'Number', 'Street', 'Side', 'City', 'County', 'State',\n",
       "       'Zipcode', 'Country', 'Timezone', 'Airport_Code', 'Weather_Timestamp',\n",
       "       'Temperature(F)', 'Wind_Chill(F)', 'Humidity(%)', 'Pressure(in)',\n",
       "       'Visibility(mi)', 'Wind_Direction', 'Wind_Speed(mph)',\n",
       "       'Precipitation(in)', 'Weather_Condition', 'Amenity', 'Bump', 'Crossing',\n",
       "       'Give_Way', 'Junction', 'No_Exit', 'Railway', 'Roundabout', 'Station',\n",
       "       'Stop', 'Traffic_Calming', 'Traffic_Signal', 'Turning_Loop',\n",
       "       'Sunrise_Sunset', 'Civil_Twilight', 'Nautical_Twilight',\n",
       "       'Astronomical_Twilight'],\n",
       "      dtype='object')"
      ]
     },
     "execution_count": 36,
     "metadata": {
      "tags": []
     },
     "output_type": "execute_result"
    }
   ],
   "source": [
    "us_acc.columns"
   ]
  },
  {
   "cell_type": "code",
   "execution_count": 37,
   "metadata": {
    "colab": {
     "base_uri": "https://localhost:8080/",
     "height": 204
    },
    "executionInfo": {
     "elapsed": 86231,
     "status": "ok",
     "timestamp": 1615633332119,
     "user": {
      "displayName": "Sachin Kumar",
      "photoUrl": "",
      "userId": "14743817537594214650"
     },
     "user_tz": -330
    },
    "id": "HY9cVm9K_lN2",
    "outputId": "b911587c-cd43-4e72-cd55-80c3a51c6c53"
   },
   "outputs": [
    {
     "data": {
      "text/html": [
       "<div>\n",
       "<style scoped>\n",
       "    .dataframe tbody tr th:only-of-type {\n",
       "        vertical-align: middle;\n",
       "    }\n",
       "\n",
       "    .dataframe tbody tr th {\n",
       "        vertical-align: top;\n",
       "    }\n",
       "\n",
       "    .dataframe thead th {\n",
       "        text-align: right;\n",
       "    }\n",
       "</style>\n",
       "<table border=\"1\" class=\"dataframe\">\n",
       "  <thead>\n",
       "    <tr style=\"text-align: right;\">\n",
       "      <th></th>\n",
       "      <th>Severity</th>\n",
       "      <th>Bump</th>\n",
       "      <th>Crossing</th>\n",
       "      <th>Give_Way</th>\n",
       "      <th>Junction</th>\n",
       "      <th>No_Exit</th>\n",
       "      <th>Roundabout</th>\n",
       "      <th>Stop</th>\n",
       "      <th>Traffic_Signal</th>\n",
       "      <th>Turning_Loop</th>\n",
       "    </tr>\n",
       "  </thead>\n",
       "  <tbody>\n",
       "    <tr>\n",
       "      <th>0</th>\n",
       "      <td>3</td>\n",
       "      <td>False</td>\n",
       "      <td>False</td>\n",
       "      <td>False</td>\n",
       "      <td>False</td>\n",
       "      <td>False</td>\n",
       "      <td>False</td>\n",
       "      <td>False</td>\n",
       "      <td>False</td>\n",
       "      <td>False</td>\n",
       "    </tr>\n",
       "    <tr>\n",
       "      <th>1</th>\n",
       "      <td>2</td>\n",
       "      <td>False</td>\n",
       "      <td>False</td>\n",
       "      <td>False</td>\n",
       "      <td>False</td>\n",
       "      <td>False</td>\n",
       "      <td>False</td>\n",
       "      <td>False</td>\n",
       "      <td>False</td>\n",
       "      <td>False</td>\n",
       "    </tr>\n",
       "    <tr>\n",
       "      <th>2</th>\n",
       "      <td>2</td>\n",
       "      <td>False</td>\n",
       "      <td>False</td>\n",
       "      <td>False</td>\n",
       "      <td>False</td>\n",
       "      <td>False</td>\n",
       "      <td>False</td>\n",
       "      <td>False</td>\n",
       "      <td>True</td>\n",
       "      <td>False</td>\n",
       "    </tr>\n",
       "    <tr>\n",
       "      <th>3</th>\n",
       "      <td>3</td>\n",
       "      <td>False</td>\n",
       "      <td>False</td>\n",
       "      <td>False</td>\n",
       "      <td>False</td>\n",
       "      <td>False</td>\n",
       "      <td>False</td>\n",
       "      <td>False</td>\n",
       "      <td>False</td>\n",
       "      <td>False</td>\n",
       "    </tr>\n",
       "    <tr>\n",
       "      <th>4</th>\n",
       "      <td>2</td>\n",
       "      <td>False</td>\n",
       "      <td>False</td>\n",
       "      <td>False</td>\n",
       "      <td>False</td>\n",
       "      <td>False</td>\n",
       "      <td>False</td>\n",
       "      <td>False</td>\n",
       "      <td>True</td>\n",
       "      <td>False</td>\n",
       "    </tr>\n",
       "  </tbody>\n",
       "</table>\n",
       "</div>"
      ],
      "text/plain": [
       "   Severity   Bump  Crossing  ...   Stop  Traffic_Signal  Turning_Loop\n",
       "0         3  False     False  ...  False           False         False\n",
       "1         2  False     False  ...  False           False         False\n",
       "2         2  False     False  ...  False            True         False\n",
       "3         3  False     False  ...  False           False         False\n",
       "4         2  False     False  ...  False            True         False\n",
       "\n",
       "[5 rows x 10 columns]"
      ]
     },
     "execution_count": 37,
     "metadata": {
      "tags": []
     },
     "output_type": "execute_result"
    }
   ],
   "source": [
    "# Getting other factors that could relate to severity\r\n",
    "other_factors = ['Severity', 'Bump', 'Crossing', 'Give_Way', 'Junction', 'No_Exit', 'Roundabout', 'Stop', 'Traffic_Signal', 'Turning_Loop']\r\n",
    "other_factors_data = us_acc[other_factors]\r\n",
    "other_factors_data.head()"
   ]
  },
  {
   "cell_type": "code",
   "execution_count": 38,
   "metadata": {
    "colab": {
     "base_uri": "https://localhost:8080/",
     "height": 204
    },
    "executionInfo": {
     "elapsed": 86223,
     "status": "ok",
     "timestamp": 1615633332125,
     "user": {
      "displayName": "Sachin Kumar",
      "photoUrl": "",
      "userId": "14743817537594214650"
     },
     "user_tz": -330
    },
    "id": "fhipcxaTFtVo",
    "outputId": "44587cd7-eaba-484a-dc05-511343aef161"
   },
   "outputs": [
    {
     "data": {
      "text/html": [
       "<div>\n",
       "<style scoped>\n",
       "    .dataframe tbody tr th:only-of-type {\n",
       "        vertical-align: middle;\n",
       "    }\n",
       "\n",
       "    .dataframe tbody tr th {\n",
       "        vertical-align: top;\n",
       "    }\n",
       "\n",
       "    .dataframe thead th {\n",
       "        text-align: right;\n",
       "    }\n",
       "</style>\n",
       "<table border=\"1\" class=\"dataframe\">\n",
       "  <thead>\n",
       "    <tr style=\"text-align: right;\">\n",
       "      <th></th>\n",
       "      <th>Bump</th>\n",
       "      <th>Crossing</th>\n",
       "      <th>Give_Way</th>\n",
       "      <th>Junction</th>\n",
       "      <th>No_Exit</th>\n",
       "      <th>Roundabout</th>\n",
       "      <th>Stop</th>\n",
       "      <th>Traffic_Signal</th>\n",
       "      <th>Turning_Loop</th>\n",
       "    </tr>\n",
       "    <tr>\n",
       "      <th>Severity</th>\n",
       "      <th></th>\n",
       "      <th></th>\n",
       "      <th></th>\n",
       "      <th></th>\n",
       "      <th></th>\n",
       "      <th></th>\n",
       "      <th></th>\n",
       "      <th></th>\n",
       "      <th></th>\n",
       "    </tr>\n",
       "  </thead>\n",
       "  <tbody>\n",
       "    <tr>\n",
       "      <th>1</th>\n",
       "      <td>10</td>\n",
       "      <td>9155</td>\n",
       "      <td>96</td>\n",
       "      <td>2537</td>\n",
       "      <td>124</td>\n",
       "      <td>1</td>\n",
       "      <td>526</td>\n",
       "      <td>12666</td>\n",
       "      <td>0</td>\n",
       "    </tr>\n",
       "    <tr>\n",
       "      <th>2</th>\n",
       "      <td>723</td>\n",
       "      <td>309628</td>\n",
       "      <td>10348</td>\n",
       "      <td>212039</td>\n",
       "      <td>4664</td>\n",
       "      <td>228</td>\n",
       "      <td>65723</td>\n",
       "      <td>637321</td>\n",
       "      <td>0</td>\n",
       "    </tr>\n",
       "    <tr>\n",
       "      <th>3</th>\n",
       "      <td>116</td>\n",
       "      <td>22601</td>\n",
       "      <td>2309</td>\n",
       "      <td>111055</td>\n",
       "      <td>1033</td>\n",
       "      <td>3</td>\n",
       "      <td>4126</td>\n",
       "      <td>66031</td>\n",
       "      <td>0</td>\n",
       "    </tr>\n",
       "    <tr>\n",
       "      <th>4</th>\n",
       "      <td>12</td>\n",
       "      <td>6033</td>\n",
       "      <td>442</td>\n",
       "      <td>14011</td>\n",
       "      <td>148</td>\n",
       "      <td>5</td>\n",
       "      <td>1808</td>\n",
       "      <td>12093</td>\n",
       "      <td>0</td>\n",
       "    </tr>\n",
       "  </tbody>\n",
       "</table>\n",
       "</div>"
      ],
      "text/plain": [
       "          Bump  Crossing  Give_Way  ...   Stop  Traffic_Signal  Turning_Loop\n",
       "Severity                            ...                                     \n",
       "1           10      9155        96  ...    526           12666             0\n",
       "2          723    309628     10348  ...  65723          637321             0\n",
       "3          116     22601      2309  ...   4126           66031             0\n",
       "4           12      6033       442  ...   1808           12093             0\n",
       "\n",
       "[4 rows x 9 columns]"
      ]
     },
     "execution_count": 38,
     "metadata": {
      "tags": []
     },
     "output_type": "execute_result"
    }
   ],
   "source": [
    "other_factors_data.groupby('Severity').sum()"
   ]
  },
  {
   "cell_type": "code",
   "execution_count": 39,
   "metadata": {
    "colab": {
     "base_uri": "https://localhost:8080/"
    },
    "executionInfo": {
     "elapsed": 86215,
     "status": "ok",
     "timestamp": 1615633332128,
     "user": {
      "displayName": "Sachin Kumar",
      "photoUrl": "",
      "userId": "14743817537594214650"
     },
     "user_tz": -330
    },
    "id": "jU7hK6U0GztY",
    "outputId": "0d89a6ac-bfcd-4f64-85ee-38a6d927cccf"
   },
   "outputs": [
    {
     "data": {
      "text/plain": [
       "False    4232541\n",
       "Name: Turning_Loop, dtype: int64"
      ]
     },
     "execution_count": 39,
     "metadata": {
      "tags": []
     },
     "output_type": "execute_result"
    }
   ],
   "source": [
    "# checking for turning loop values\r\n",
    "us_acc['Turning_Loop'].value_counts()"
   ]
  },
  {
   "cell_type": "code",
   "execution_count": 40,
   "metadata": {
    "colab": {
     "base_uri": "https://localhost:8080/"
    },
    "executionInfo": {
     "elapsed": 94344,
     "status": "ok",
     "timestamp": 1615633340268,
     "user": {
      "displayName": "Sachin Kumar",
      "photoUrl": "",
      "userId": "14743817537594214650"
     },
     "user_tz": -330
    },
    "id": "i7j7T479Juim",
    "outputId": "2958cd57-f9f1-4c58-ddea-070b75339639"
   },
   "outputs": [
    {
     "name": "stdout",
     "output_type": "stream",
     "text": [
      "Collecting geopandas\n",
      "\u001b[?25l  Downloading https://files.pythonhosted.org/packages/d7/bf/e9cefb69d39155d122b6ddca53893b61535fa6ffdad70bf5ef708977f53f/geopandas-0.9.0-py2.py3-none-any.whl (994kB)\n",
      "\u001b[K     |████████████████████████████████| 1.0MB 8.3MB/s \n",
      "\u001b[?25hCollecting pyproj>=2.2.0\n",
      "\u001b[?25l  Downloading https://files.pythonhosted.org/packages/b1/72/d52e9ca81caef056062d71991b0e9b1d16af042245627c5d0e4916a36c4f/pyproj-3.0.1-cp37-cp37m-manylinux2010_x86_64.whl (6.5MB)\n",
      "\u001b[K     |████████████████████████████████| 6.5MB 22.3MB/s \n",
      "\u001b[?25hRequirement already satisfied: pandas>=0.24.0 in /usr/local/lib/python3.7/dist-packages (from geopandas) (1.1.5)\n",
      "Collecting fiona>=1.8\n",
      "\u001b[?25l  Downloading https://files.pythonhosted.org/packages/47/c2/67d1d0acbaaee3b03e5e22e3b96c33219cb5dd392531c9ff9cee7c2eb3e4/Fiona-1.8.18-cp37-cp37m-manylinux1_x86_64.whl (14.8MB)\n",
      "\u001b[K     |████████████████████████████████| 14.8MB 309kB/s \n",
      "\u001b[?25hRequirement already satisfied: shapely>=1.6 in /usr/local/lib/python3.7/dist-packages (from geopandas) (1.7.1)\n",
      "Requirement already satisfied: certifi in /usr/local/lib/python3.7/dist-packages (from pyproj>=2.2.0->geopandas) (2020.12.5)\n",
      "Requirement already satisfied: python-dateutil>=2.7.3 in /usr/local/lib/python3.7/dist-packages (from pandas>=0.24.0->geopandas) (2.8.1)\n",
      "Requirement already satisfied: numpy>=1.15.4 in /usr/local/lib/python3.7/dist-packages (from pandas>=0.24.0->geopandas) (1.19.5)\n",
      "Requirement already satisfied: pytz>=2017.2 in /usr/local/lib/python3.7/dist-packages (from pandas>=0.24.0->geopandas) (2018.9)\n",
      "Requirement already satisfied: attrs>=17 in /usr/local/lib/python3.7/dist-packages (from fiona>=1.8->geopandas) (20.3.0)\n",
      "Requirement already satisfied: six>=1.7 in /usr/local/lib/python3.7/dist-packages (from fiona>=1.8->geopandas) (1.15.0)\n",
      "Collecting munch\n",
      "  Downloading https://files.pythonhosted.org/packages/cc/ab/85d8da5c9a45e072301beb37ad7f833cd344e04c817d97e0cc75681d248f/munch-2.5.0-py2.py3-none-any.whl\n",
      "Collecting click-plugins>=1.0\n",
      "  Downloading https://files.pythonhosted.org/packages/e9/da/824b92d9942f4e472702488857914bdd50f73021efea15b4cad9aca8ecef/click_plugins-1.1.1-py2.py3-none-any.whl\n",
      "Collecting cligj>=0.5\n",
      "  Downloading https://files.pythonhosted.org/packages/42/1e/947eadf10d6804bf276eb8a038bd5307996dceaaa41cfd21b7a15ec62f5d/cligj-0.7.1-py3-none-any.whl\n",
      "Requirement already satisfied: click<8,>=4.0 in /usr/local/lib/python3.7/dist-packages (from fiona>=1.8->geopandas) (7.1.2)\n",
      "Installing collected packages: pyproj, munch, click-plugins, cligj, fiona, geopandas\n",
      "Successfully installed click-plugins-1.1.1 cligj-0.7.1 fiona-1.8.18 geopandas-0.9.0 munch-2.5.0 pyproj-3.0.1\n"
     ]
    }
   ],
   "source": [
    "# importing geopandas\r\n",
    "!pip install geopandas\r\n",
    "import geopandas as gpd"
   ]
  },
  {
   "cell_type": "code",
   "execution_count": 42,
   "metadata": {
    "colab": {
     "base_uri": "https://localhost:8080/",
     "height": 204
    },
    "executionInfo": {
     "elapsed": 1194,
     "status": "ok",
     "timestamp": 1615633421718,
     "user": {
      "displayName": "Sachin Kumar",
      "photoUrl": "",
      "userId": "14743817537594214650"
     },
     "user_tz": -330
    },
    "id": "ho19HljCKL3W",
    "outputId": "f9231e19-32bd-4db0-c9ca-46159039922a"
   },
   "outputs": [
    {
     "data": {
      "text/html": [
       "<div>\n",
       "<style scoped>\n",
       "    .dataframe tbody tr th:only-of-type {\n",
       "        vertical-align: middle;\n",
       "    }\n",
       "\n",
       "    .dataframe tbody tr th {\n",
       "        vertical-align: top;\n",
       "    }\n",
       "\n",
       "    .dataframe thead th {\n",
       "        text-align: right;\n",
       "    }\n",
       "</style>\n",
       "<table border=\"1\" class=\"dataframe\">\n",
       "  <thead>\n",
       "    <tr style=\"text-align: right;\">\n",
       "      <th></th>\n",
       "      <th>GEO_ID</th>\n",
       "      <th>STATE</th>\n",
       "      <th>NAME</th>\n",
       "      <th>LSAD</th>\n",
       "      <th>CENSUSAREA</th>\n",
       "      <th>geometry</th>\n",
       "    </tr>\n",
       "  </thead>\n",
       "  <tbody>\n",
       "    <tr>\n",
       "      <th>0</th>\n",
       "      <td>0400000US23</td>\n",
       "      <td>23</td>\n",
       "      <td>Maine</td>\n",
       "      <td>None</td>\n",
       "      <td>30842.923</td>\n",
       "      <td>MULTIPOLYGON (((-67.61976 44.51975, -67.61541 ...</td>\n",
       "    </tr>\n",
       "    <tr>\n",
       "      <th>1</th>\n",
       "      <td>0400000US25</td>\n",
       "      <td>25</td>\n",
       "      <td>Massachusetts</td>\n",
       "      <td>None</td>\n",
       "      <td>7800.058</td>\n",
       "      <td>MULTIPOLYGON (((-70.83204 41.60650, -70.82373 ...</td>\n",
       "    </tr>\n",
       "    <tr>\n",
       "      <th>2</th>\n",
       "      <td>0400000US26</td>\n",
       "      <td>26</td>\n",
       "      <td>Michigan</td>\n",
       "      <td>None</td>\n",
       "      <td>56538.901</td>\n",
       "      <td>MULTIPOLYGON (((-88.68443 48.11578, -88.67563 ...</td>\n",
       "    </tr>\n",
       "    <tr>\n",
       "      <th>3</th>\n",
       "      <td>0400000US30</td>\n",
       "      <td>30</td>\n",
       "      <td>Montana</td>\n",
       "      <td>None</td>\n",
       "      <td>145545.801</td>\n",
       "      <td>POLYGON ((-104.05770 44.99743, -104.25015 44.9...</td>\n",
       "    </tr>\n",
       "    <tr>\n",
       "      <th>4</th>\n",
       "      <td>0400000US32</td>\n",
       "      <td>32</td>\n",
       "      <td>Nevada</td>\n",
       "      <td>None</td>\n",
       "      <td>109781.180</td>\n",
       "      <td>POLYGON ((-114.05060 37.00040, -114.04999 36.9...</td>\n",
       "    </tr>\n",
       "  </tbody>\n",
       "</table>\n",
       "</div>"
      ],
      "text/plain": [
       "        GEO_ID  ...                                           geometry\n",
       "0  0400000US23  ...  MULTIPOLYGON (((-67.61976 44.51975, -67.61541 ...\n",
       "1  0400000US25  ...  MULTIPOLYGON (((-70.83204 41.60650, -70.82373 ...\n",
       "2  0400000US26  ...  MULTIPOLYGON (((-88.68443 48.11578, -88.67563 ...\n",
       "3  0400000US30  ...  POLYGON ((-104.05770 44.99743, -104.25015 44.9...\n",
       "4  0400000US32  ...  POLYGON ((-114.05060 37.00040, -114.04999 36.9...\n",
       "\n",
       "[5 rows x 6 columns]"
      ]
     },
     "execution_count": 42,
     "metadata": {
      "tags": []
     },
     "output_type": "execute_result"
    }
   ],
   "source": [
    "us_shape = gpd.read_file('gz_2010_us_040_00_500k.shp')\r\n",
    "us_shape.head()"
   ]
  },
  {
   "cell_type": "code",
   "execution_count": 51,
   "metadata": {
    "colab": {
     "base_uri": "https://localhost:8080/",
     "height": 609
    },
    "executionInfo": {
     "elapsed": 2475,
     "status": "ok",
     "timestamp": 1615633663263,
     "user": {
      "displayName": "Sachin Kumar",
      "photoUrl": "",
      "userId": "14743817537594214650"
     },
     "user_tz": -330
    },
    "id": "oA4C6g-HLigD",
    "outputId": "b2fa9b88-9b63-4d6d-eb4b-0e33cd364efe"
   },
   "outputs": [
    {
     "data": {
      "text/plain": [
       "<matplotlib.axes._subplots.AxesSubplot at 0x7f48ea02c5d0>"
      ]
     },
     "execution_count": 51,
     "metadata": {
      "tags": []
     },
     "output_type": "execute_result"
    },
    {
     "data": {
      "image/png": "[encoded data removed]",
      "text/plain": [
       "<Figure size 2160x720 with 1 Axes>"
      ]
     },
     "metadata": {
      "tags": []
     },
     "output_type": "display_data"
    }
   ],
   "source": [
    "us_shape[us_shape['NAME'].isin(['Alaska','Hawaii']) == False].plot(figsize=(30,10))\r\n",
    "\r\n"
   ]
  },
  {
   "cell_type": "code",
   "execution_count": 52,
   "metadata": {
    "colab": {
     "base_uri": "https://localhost:8080/"
    },
    "executionInfo": {
     "elapsed": 1179,
     "status": "ok",
     "timestamp": 1615633798411,
     "user": {
      "displayName": "Sachin Kumar",
      "photoUrl": "",
      "userId": "14743817537594214650"
     },
     "user_tz": -330
    },
    "id": "SNaFwm4hRtFe",
    "outputId": "1466a30d-4aa9-4acb-f31f-d11f9df5d13d"
   },
   "outputs": [
    {
     "data": {
      "text/plain": [
       "Index(['ID', 'Source', 'TMC', 'Severity', 'Start_Time', 'End_Time',\n",
       "       'Start_Lat', 'Start_Lng', 'End_Lat', 'End_Lng', 'Distance(mi)',\n",
       "       'Description', 'Number', 'Street', 'Side', 'City', 'County', 'State',\n",
       "       'Zipcode', 'Country', 'Timezone', 'Airport_Code', 'Weather_Timestamp',\n",
       "       'Temperature(F)', 'Wind_Chill(F)', 'Humidity(%)', 'Pressure(in)',\n",
       "       'Visibility(mi)', 'Wind_Direction', 'Wind_Speed(mph)',\n",
       "       'Precipitation(in)', 'Weather_Condition', 'Amenity', 'Bump', 'Crossing',\n",
       "       'Give_Way', 'Junction', 'No_Exit', 'Railway', 'Roundabout', 'Station',\n",
       "       'Stop', 'Traffic_Calming', 'Traffic_Signal', 'Turning_Loop',\n",
       "       'Sunrise_Sunset', 'Civil_Twilight', 'Nautical_Twilight',\n",
       "       'Astronomical_Twilight'],\n",
       "      dtype='object')"
      ]
     },
     "execution_count": 52,
     "metadata": {
      "tags": []
     },
     "output_type": "execute_result"
    }
   ],
   "source": [
    "us_acc.columns"
   ]
  },
  {
   "cell_type": "code",
   "execution_count": 53,
   "metadata": {
    "colab": {
     "base_uri": "https://localhost:8080/",
     "height": 204
    },
    "executionInfo": {
     "elapsed": 1236,
     "status": "ok",
     "timestamp": 1615633853655,
     "user": {
      "displayName": "Sachin Kumar",
      "photoUrl": "",
      "userId": "14743817537594214650"
     },
     "user_tz": -330
    },
    "id": "vFVlKlYnRtAN",
    "outputId": "7bcc44dd-ba5a-4778-c5b0-855ba45bb98b"
   },
   "outputs": [
    {
     "data": {
      "text/html": [
       "<div>\n",
       "<style scoped>\n",
       "    .dataframe tbody tr th:only-of-type {\n",
       "        vertical-align: middle;\n",
       "    }\n",
       "\n",
       "    .dataframe tbody tr th {\n",
       "        vertical-align: top;\n",
       "    }\n",
       "\n",
       "    .dataframe thead th {\n",
       "        text-align: right;\n",
       "    }\n",
       "</style>\n",
       "<table border=\"1\" class=\"dataframe\">\n",
       "  <thead>\n",
       "    <tr style=\"text-align: right;\">\n",
       "      <th></th>\n",
       "      <th>Start_Lat</th>\n",
       "      <th>Start_Lng</th>\n",
       "    </tr>\n",
       "  </thead>\n",
       "  <tbody>\n",
       "    <tr>\n",
       "      <th>0</th>\n",
       "      <td>39.865147</td>\n",
       "      <td>-84.058723</td>\n",
       "    </tr>\n",
       "    <tr>\n",
       "      <th>1</th>\n",
       "      <td>39.928059</td>\n",
       "      <td>-82.831184</td>\n",
       "    </tr>\n",
       "    <tr>\n",
       "      <th>2</th>\n",
       "      <td>39.063148</td>\n",
       "      <td>-84.032608</td>\n",
       "    </tr>\n",
       "    <tr>\n",
       "      <th>3</th>\n",
       "      <td>39.747753</td>\n",
       "      <td>-84.205582</td>\n",
       "    </tr>\n",
       "    <tr>\n",
       "      <th>4</th>\n",
       "      <td>39.627781</td>\n",
       "      <td>-84.188354</td>\n",
       "    </tr>\n",
       "  </tbody>\n",
       "</table>\n",
       "</div>"
      ],
      "text/plain": [
       "   Start_Lat  Start_Lng\n",
       "0  39.865147 -84.058723\n",
       "1  39.928059 -82.831184\n",
       "2  39.063148 -84.032608\n",
       "3  39.747753 -84.205582\n",
       "4  39.627781 -84.188354"
      ]
     },
     "execution_count": 53,
     "metadata": {
      "tags": []
     },
     "output_type": "execute_result"
    }
   ],
   "source": [
    "us_acc[['Start_Lat','Start_Lng']].head()"
   ]
  },
  {
   "cell_type": "code",
   "execution_count": 62,
   "metadata": {
    "colab": {
     "base_uri": "https://localhost:8080/"
    },
    "executionInfo": {
     "elapsed": 5592,
     "status": "ok",
     "timestamp": 1615634433402,
     "user": {
      "displayName": "Sachin Kumar",
      "photoUrl": "",
      "userId": "14743817537594214650"
     },
     "user_tz": -330
    },
    "id": "RS6dO0zWRs9Q",
    "outputId": "745b5fc7-3b77-4136-e0d4-e78fc3ad31af"
   },
   "outputs": [
    {
     "name": "stderr",
     "output_type": "stream",
     "text": [
      "/usr/local/lib/python3.7/dist-packages/geopandas/geodataframe.py:1321: UserWarning: Geometry column does not contain geometry.\n",
      "  warnings.warn(\"Geometry column does not contain geometry.\")\n"
     ]
    },
    {
     "data": {
      "text/plain": [
       "0             [-84.058723, 39.865147]\n",
       "1    [-82.831184, 39.928059000000005]\n",
       "2             [-84.032608, 39.063148]\n",
       "3     [-84.20558199999999, 39.747753]\n",
       "4             [-84.188354, 39.627781]\n",
       "Name: coordinates, dtype: object"
      ]
     },
     "execution_count": 62,
     "metadata": {
      "tags": []
     },
     "output_type": "execute_result"
    }
   ],
   "source": [
    "us_acc['coordinates'] = us_acc[['Start_Lng','Start_Lat']].values.tolist()\r\n",
    "us_acc['coordinates'].head()"
   ]
  },
  {
   "cell_type": "code",
   "execution_count": 63,
   "metadata": {
    "executionInfo": {
     "elapsed": 37339,
     "status": "ok",
     "timestamp": 1615634475630,
     "user": {
      "displayName": "Sachin Kumar",
      "photoUrl": "",
      "userId": "14743817537594214650"
     },
     "user_tz": -330
    },
    "id": "nLF7M1YpS6s0"
   },
   "outputs": [],
   "source": [
    "from shapely.geometry import Point\r\n",
    "us_acc['coordinates'] = us_acc['coordinates'].apply(Point)"
   ]
  },
  {
   "cell_type": "code",
   "execution_count": 64,
   "metadata": {
    "colab": {
     "base_uri": "https://localhost:8080/",
     "height": 530
    },
    "executionInfo": {
     "elapsed": 1502,
     "status": "ok",
     "timestamp": 1615634479198,
     "user": {
      "displayName": "Sachin Kumar",
      "photoUrl": "",
      "userId": "14743817537594214650"
     },
     "user_tz": -330
    },
    "id": "fWPcghTDS6kG",
    "outputId": "4bf4bb8d-bbf9-4de4-800b-8d71e1b049cb"
   },
   "outputs": [
    {
     "data": {
      "text/html": [
       "<div>\n",
       "<style scoped>\n",
       "    .dataframe tbody tr th:only-of-type {\n",
       "        vertical-align: middle;\n",
       "    }\n",
       "\n",
       "    .dataframe tbody tr th {\n",
       "        vertical-align: top;\n",
       "    }\n",
       "\n",
       "    .dataframe thead th {\n",
       "        text-align: right;\n",
       "    }\n",
       "</style>\n",
       "<table border=\"1\" class=\"dataframe\">\n",
       "  <thead>\n",
       "    <tr style=\"text-align: right;\">\n",
       "      <th></th>\n",
       "      <th>ID</th>\n",
       "      <th>Source</th>\n",
       "      <th>TMC</th>\n",
       "      <th>Severity</th>\n",
       "      <th>Start_Time</th>\n",
       "      <th>End_Time</th>\n",
       "      <th>Start_Lat</th>\n",
       "      <th>Start_Lng</th>\n",
       "      <th>End_Lat</th>\n",
       "      <th>End_Lng</th>\n",
       "      <th>Distance(mi)</th>\n",
       "      <th>Description</th>\n",
       "      <th>Number</th>\n",
       "      <th>Street</th>\n",
       "      <th>Side</th>\n",
       "      <th>City</th>\n",
       "      <th>County</th>\n",
       "      <th>State</th>\n",
       "      <th>Zipcode</th>\n",
       "      <th>Country</th>\n",
       "      <th>Timezone</th>\n",
       "      <th>Airport_Code</th>\n",
       "      <th>Weather_Timestamp</th>\n",
       "      <th>Temperature(F)</th>\n",
       "      <th>Wind_Chill(F)</th>\n",
       "      <th>Humidity(%)</th>\n",
       "      <th>Pressure(in)</th>\n",
       "      <th>Visibility(mi)</th>\n",
       "      <th>Wind_Direction</th>\n",
       "      <th>Wind_Speed(mph)</th>\n",
       "      <th>Precipitation(in)</th>\n",
       "      <th>Weather_Condition</th>\n",
       "      <th>Amenity</th>\n",
       "      <th>Bump</th>\n",
       "      <th>Crossing</th>\n",
       "      <th>Give_Way</th>\n",
       "      <th>Junction</th>\n",
       "      <th>No_Exit</th>\n",
       "      <th>Railway</th>\n",
       "      <th>Roundabout</th>\n",
       "      <th>Station</th>\n",
       "      <th>Stop</th>\n",
       "      <th>Traffic_Calming</th>\n",
       "      <th>Traffic_Signal</th>\n",
       "      <th>Turning_Loop</th>\n",
       "      <th>Sunrise_Sunset</th>\n",
       "      <th>Civil_Twilight</th>\n",
       "      <th>Nautical_Twilight</th>\n",
       "      <th>Astronomical_Twilight</th>\n",
       "      <th>coordinates</th>\n",
       "    </tr>\n",
       "  </thead>\n",
       "  <tbody>\n",
       "    <tr>\n",
       "      <th>0</th>\n",
       "      <td>A-1</td>\n",
       "      <td>MapQuest</td>\n",
       "      <td>201.0</td>\n",
       "      <td>3</td>\n",
       "      <td>2016-02-08 05:46:00</td>\n",
       "      <td>2016-02-08 11:00:00</td>\n",
       "      <td>39.865147</td>\n",
       "      <td>-84.058723</td>\n",
       "      <td>NaN</td>\n",
       "      <td>NaN</td>\n",
       "      <td>0.01</td>\n",
       "      <td>Right lane blocked due to accident on I-70 Eas...</td>\n",
       "      <td>NaN</td>\n",
       "      <td>I-70 E</td>\n",
       "      <td>R</td>\n",
       "      <td>Dayton</td>\n",
       "      <td>Montgomery</td>\n",
       "      <td>OH</td>\n",
       "      <td>45424</td>\n",
       "      <td>US</td>\n",
       "      <td>US/Eastern</td>\n",
       "      <td>KFFO</td>\n",
       "      <td>2016-02-08 05:58:00</td>\n",
       "      <td>36.9</td>\n",
       "      <td>NaN</td>\n",
       "      <td>91.0</td>\n",
       "      <td>29.68</td>\n",
       "      <td>10.0</td>\n",
       "      <td>Calm</td>\n",
       "      <td>NaN</td>\n",
       "      <td>0.02</td>\n",
       "      <td>Light Rain</td>\n",
       "      <td>False</td>\n",
       "      <td>False</td>\n",
       "      <td>False</td>\n",
       "      <td>False</td>\n",
       "      <td>False</td>\n",
       "      <td>False</td>\n",
       "      <td>False</td>\n",
       "      <td>False</td>\n",
       "      <td>False</td>\n",
       "      <td>False</td>\n",
       "      <td>False</td>\n",
       "      <td>False</td>\n",
       "      <td>False</td>\n",
       "      <td>Night</td>\n",
       "      <td>Night</td>\n",
       "      <td>Night</td>\n",
       "      <td>Night</td>\n",
       "      <td>POINT (-84.05872 39.86515)</td>\n",
       "    </tr>\n",
       "    <tr>\n",
       "      <th>1</th>\n",
       "      <td>A-2</td>\n",
       "      <td>MapQuest</td>\n",
       "      <td>201.0</td>\n",
       "      <td>2</td>\n",
       "      <td>2016-02-08 06:07:59</td>\n",
       "      <td>2016-02-08 06:37:59</td>\n",
       "      <td>39.928059</td>\n",
       "      <td>-82.831184</td>\n",
       "      <td>NaN</td>\n",
       "      <td>NaN</td>\n",
       "      <td>0.01</td>\n",
       "      <td>Accident on Brice Rd at Tussing Rd. Expect del...</td>\n",
       "      <td>2584.0</td>\n",
       "      <td>Brice Rd</td>\n",
       "      <td>L</td>\n",
       "      <td>Reynoldsburg</td>\n",
       "      <td>Franklin</td>\n",
       "      <td>OH</td>\n",
       "      <td>43068-3402</td>\n",
       "      <td>US</td>\n",
       "      <td>US/Eastern</td>\n",
       "      <td>KCMH</td>\n",
       "      <td>2016-02-08 05:51:00</td>\n",
       "      <td>37.9</td>\n",
       "      <td>NaN</td>\n",
       "      <td>100.0</td>\n",
       "      <td>29.65</td>\n",
       "      <td>10.0</td>\n",
       "      <td>Calm</td>\n",
       "      <td>NaN</td>\n",
       "      <td>0.00</td>\n",
       "      <td>Light Rain</td>\n",
       "      <td>False</td>\n",
       "      <td>False</td>\n",
       "      <td>False</td>\n",
       "      <td>False</td>\n",
       "      <td>False</td>\n",
       "      <td>False</td>\n",
       "      <td>False</td>\n",
       "      <td>False</td>\n",
       "      <td>False</td>\n",
       "      <td>False</td>\n",
       "      <td>False</td>\n",
       "      <td>False</td>\n",
       "      <td>False</td>\n",
       "      <td>Night</td>\n",
       "      <td>Night</td>\n",
       "      <td>Night</td>\n",
       "      <td>Day</td>\n",
       "      <td>POINT (-82.83118 39.92806)</td>\n",
       "    </tr>\n",
       "    <tr>\n",
       "      <th>2</th>\n",
       "      <td>A-3</td>\n",
       "      <td>MapQuest</td>\n",
       "      <td>201.0</td>\n",
       "      <td>2</td>\n",
       "      <td>2016-02-08 06:49:27</td>\n",
       "      <td>2016-02-08 07:19:27</td>\n",
       "      <td>39.063148</td>\n",
       "      <td>-84.032608</td>\n",
       "      <td>NaN</td>\n",
       "      <td>NaN</td>\n",
       "      <td>0.01</td>\n",
       "      <td>Accident on OH-32 State Route 32 Westbound at ...</td>\n",
       "      <td>NaN</td>\n",
       "      <td>State Route 32</td>\n",
       "      <td>R</td>\n",
       "      <td>Williamsburg</td>\n",
       "      <td>Clermont</td>\n",
       "      <td>OH</td>\n",
       "      <td>45176</td>\n",
       "      <td>US</td>\n",
       "      <td>US/Eastern</td>\n",
       "      <td>KI69</td>\n",
       "      <td>2016-02-08 06:56:00</td>\n",
       "      <td>36.0</td>\n",
       "      <td>33.3</td>\n",
       "      <td>100.0</td>\n",
       "      <td>29.67</td>\n",
       "      <td>10.0</td>\n",
       "      <td>SW</td>\n",
       "      <td>3.5</td>\n",
       "      <td>NaN</td>\n",
       "      <td>Overcast</td>\n",
       "      <td>False</td>\n",
       "      <td>False</td>\n",
       "      <td>False</td>\n",
       "      <td>False</td>\n",
       "      <td>False</td>\n",
       "      <td>False</td>\n",
       "      <td>False</td>\n",
       "      <td>False</td>\n",
       "      <td>False</td>\n",
       "      <td>False</td>\n",
       "      <td>False</td>\n",
       "      <td>True</td>\n",
       "      <td>False</td>\n",
       "      <td>Night</td>\n",
       "      <td>Night</td>\n",
       "      <td>Day</td>\n",
       "      <td>Day</td>\n",
       "      <td>POINT (-84.03261 39.06315)</td>\n",
       "    </tr>\n",
       "    <tr>\n",
       "      <th>3</th>\n",
       "      <td>A-4</td>\n",
       "      <td>MapQuest</td>\n",
       "      <td>201.0</td>\n",
       "      <td>3</td>\n",
       "      <td>2016-02-08 07:23:34</td>\n",
       "      <td>2016-02-08 07:53:34</td>\n",
       "      <td>39.747753</td>\n",
       "      <td>-84.205582</td>\n",
       "      <td>NaN</td>\n",
       "      <td>NaN</td>\n",
       "      <td>0.01</td>\n",
       "      <td>Accident on I-75 Southbound at Exits 52 52B US...</td>\n",
       "      <td>NaN</td>\n",
       "      <td>I-75 S</td>\n",
       "      <td>R</td>\n",
       "      <td>Dayton</td>\n",
       "      <td>Montgomery</td>\n",
       "      <td>OH</td>\n",
       "      <td>45417</td>\n",
       "      <td>US</td>\n",
       "      <td>US/Eastern</td>\n",
       "      <td>KDAY</td>\n",
       "      <td>2016-02-08 07:38:00</td>\n",
       "      <td>35.1</td>\n",
       "      <td>31.0</td>\n",
       "      <td>96.0</td>\n",
       "      <td>29.64</td>\n",
       "      <td>9.0</td>\n",
       "      <td>SW</td>\n",
       "      <td>4.6</td>\n",
       "      <td>NaN</td>\n",
       "      <td>Mostly Cloudy</td>\n",
       "      <td>False</td>\n",
       "      <td>False</td>\n",
       "      <td>False</td>\n",
       "      <td>False</td>\n",
       "      <td>False</td>\n",
       "      <td>False</td>\n",
       "      <td>False</td>\n",
       "      <td>False</td>\n",
       "      <td>False</td>\n",
       "      <td>False</td>\n",
       "      <td>False</td>\n",
       "      <td>False</td>\n",
       "      <td>False</td>\n",
       "      <td>Night</td>\n",
       "      <td>Day</td>\n",
       "      <td>Day</td>\n",
       "      <td>Day</td>\n",
       "      <td>POINT (-84.20558 39.74775)</td>\n",
       "    </tr>\n",
       "    <tr>\n",
       "      <th>4</th>\n",
       "      <td>A-5</td>\n",
       "      <td>MapQuest</td>\n",
       "      <td>201.0</td>\n",
       "      <td>2</td>\n",
       "      <td>2016-02-08 07:39:07</td>\n",
       "      <td>2016-02-08 08:09:07</td>\n",
       "      <td>39.627781</td>\n",
       "      <td>-84.188354</td>\n",
       "      <td>NaN</td>\n",
       "      <td>NaN</td>\n",
       "      <td>0.01</td>\n",
       "      <td>Accident on McEwen Rd at OH-725 Miamisburg Cen...</td>\n",
       "      <td>NaN</td>\n",
       "      <td>Miamisburg Centerville Rd</td>\n",
       "      <td>R</td>\n",
       "      <td>Dayton</td>\n",
       "      <td>Montgomery</td>\n",
       "      <td>OH</td>\n",
       "      <td>45459</td>\n",
       "      <td>US</td>\n",
       "      <td>US/Eastern</td>\n",
       "      <td>KMGY</td>\n",
       "      <td>2016-02-08 07:53:00</td>\n",
       "      <td>36.0</td>\n",
       "      <td>33.3</td>\n",
       "      <td>89.0</td>\n",
       "      <td>29.65</td>\n",
       "      <td>6.0</td>\n",
       "      <td>SW</td>\n",
       "      <td>3.5</td>\n",
       "      <td>NaN</td>\n",
       "      <td>Mostly Cloudy</td>\n",
       "      <td>False</td>\n",
       "      <td>False</td>\n",
       "      <td>False</td>\n",
       "      <td>False</td>\n",
       "      <td>False</td>\n",
       "      <td>False</td>\n",
       "      <td>False</td>\n",
       "      <td>False</td>\n",
       "      <td>False</td>\n",
       "      <td>False</td>\n",
       "      <td>False</td>\n",
       "      <td>True</td>\n",
       "      <td>False</td>\n",
       "      <td>Day</td>\n",
       "      <td>Day</td>\n",
       "      <td>Day</td>\n",
       "      <td>Day</td>\n",
       "      <td>POINT (-84.18835 39.62778)</td>\n",
       "    </tr>\n",
       "  </tbody>\n",
       "</table>\n",
       "</div>"
      ],
      "text/plain": [
       "    ID    Source  ...  Astronomical_Twilight                 coordinates\n",
       "0  A-1  MapQuest  ...                  Night  POINT (-84.05872 39.86515)\n",
       "1  A-2  MapQuest  ...                    Day  POINT (-82.83118 39.92806)\n",
       "2  A-3  MapQuest  ...                    Day  POINT (-84.03261 39.06315)\n",
       "3  A-4  MapQuest  ...                    Day  POINT (-84.20558 39.74775)\n",
       "4  A-5  MapQuest  ...                    Day  POINT (-84.18835 39.62778)\n",
       "\n",
       "[5 rows x 50 columns]"
      ]
     },
     "execution_count": 64,
     "metadata": {
      "tags": []
     },
     "output_type": "execute_result"
    }
   ],
   "source": [
    "us_acc = gpd.GeoDataFrame(us_acc, geometry='coordinates')\r\n",
    "us_acc.head()"
   ]
  },
  {
   "cell_type": "code",
   "execution_count": 65,
   "metadata": {
    "colab": {
     "base_uri": "https://localhost:8080/",
     "height": 434
    },
    "executionInfo": {
     "elapsed": 8141,
     "status": "ok",
     "timestamp": 1615634493180,
     "user": {
      "displayName": "Sachin Kumar",
      "photoUrl": "",
      "userId": "14743817537594214650"
     },
     "user_tz": -330
    },
    "id": "kV6dAd3qTvUM",
    "outputId": "51cdb9fb-ef15-4f07-f854-2547899d1885"
   },
   "outputs": [
    {
     "data": {
      "image/png": "[encoded data removed]",
      "text/plain": [
       "<Figure size 1440x720 with 1 Axes>"
      ]
     },
     "metadata": {
      "tags": []
     },
     "output_type": "display_data"
    }
   ],
   "source": [
    "us_acc.sample(100000).plot(figsize=(20,10));"
   ]
  },
  {
   "cell_type": "code",
   "execution_count": 70,
   "metadata": {
    "colab": {
     "base_uri": "https://localhost:8080/",
     "height": 551
    },
    "executionInfo": {
     "elapsed": 38479,
     "status": "ok",
     "timestamp": 1615634959815,
     "user": {
      "displayName": "Sachin Kumar",
      "photoUrl": "",
      "userId": "14743817537594214650"
     },
     "user_tz": -330
    },
    "id": "LOMJX5gfTvRo",
    "outputId": "94282e39-50b0-4f95-faa9-a7d2889e14f7"
   },
   "outputs": [
    {
     "name": "stderr",
     "output_type": "stream",
     "text": [
      "No handles with labels found to put in legend.\n"
     ]
    },
    {
     "data": {
      "image/png": "[encoded data removed]",
      "text/plain": [
       "<Figure size 2160x1440 with 1 Axes>"
      ]
     },
     "metadata": {
      "tags": []
     },
     "output_type": "display_data"
    }
   ],
   "source": [
    "fig, ax = plt.subplots(1, figsize=(30,20))\r\n",
    "base = us_shape[us_shape['NAME'].isin(['Alaska','Hawaii']) == False].plot(ax=ax, color='#3B3C6E')\r\n",
    "\r\n",
    "us_acc.sample(500000).plot(ax=base, color='darkred', marker=\"*\", markersize=10);\r\n",
    "_ = ax.axis('off')\r\n",
    "ax.set_title(\"Accidents in US during 2016-2019\", fontsize=25)\r\n",
    "plt.savefig('US_accidents.png',bbox_inches='tight');"
   ]
  },
  {
   "cell_type": "code",
   "execution_count": null,
   "metadata": {
    "id": "XmJ0XgroTvMz"
   },
   "outputs": [],
   "source": []
  },
  {
   "cell_type": "code",
   "execution_count": null,
   "metadata": {
    "id": "f4nHAlJKRsub"
   },
   "outputs": [],
   "source": []
  },
  {
   "cell_type": "markdown",
   "metadata": {
    "id": "EdqMGfv4_Th7"
   },
   "source": [
    "### Questions to Answer"
   ]
  },
  {
   "cell_type": "markdown",
   "metadata": {
    "id": "vIkW2Cug_cCO"
   },
   "source": [
    "1. Are there more accidents in colder or warmer areas?\r\n",
    "2. Which 5 states/cities have highest accidents?\r\n",
    "3. What is the rank of New York in accidents?\r\n",
    "4. What are the weather condition fro most of accidents?\r\n",
    "5. At what time of day most accidents happen?\r\n",
    "6. On which day of week most accidents happen?\r\n",
    "7. What are other factors common in accidents?\r\n",
    "8. Factors affecting accident severity?"
   ]
  }
 ],
 "metadata": {
  "colab": {
   "authorship_tag": "ABX9TyOwqb8Oy1+e+QWadtjZjdct",
   "collapsed_sections": [],
   "name": "US_accidents_EDA.ipynb",
   "provenance": [],
   "toc_visible": true
  },
  "kernelspec": {
   "display_name": "Python 3",
   "language": "python",
   "name": "python3"
  },
  "language_info": {
   "codemirror_mode": {
    "name": "ipython",
    "version": 3
   },
   "file_extension": ".py",
   "mimetype": "text/x-python",
   "name": "python",
   "nbconvert_exporter": "python",
   "pygments_lexer": "ipython3",
   "version": "3.7.4"
  }
 },
 "nbformat": 4,
 "nbformat_minor": 4
}
